{
 "cells": [
  {
   "cell_type": "markdown",
   "metadata": {},
   "source": [
    "# Update Items"
   ]
  },
  {
   "cell_type": "markdown",
   "metadata": {},
   "source": [
    "### Import Libraries"
   ]
  },
  {
   "cell_type": "code",
   "execution_count": 1,
   "metadata": {},
   "outputs": [],
   "source": [
    "import glob\n",
    "import os\n",
    "import json\n",
    "import xml.etree.ElementTree as ET\n",
    "import requests\n",
    "from urllib import parse\n",
    "import argparse\n",
    "import urllib.request\n",
    "import configparser\n",
    "import tqdm\n",
    "import time"
   ]
  },
  {
   "cell_type": "markdown",
   "metadata": {},
   "source": [
    "### Get configuration file"
   ]
  },
  {
   "cell_type": "code",
   "execution_count": 2,
   "metadata": {},
   "outputs": [],
   "source": [
    "config = configparser.ConfigParser()\n",
    "config.sections()\n",
    "config.read('../config/api.ini')\n",
    "client_id = config.get('main', 'client_id')\n",
    "client_secret = config.get('main', 'client_secret')\n",
    "endpoint = config.get('main', 'endpoint')"
   ]
  },
  {
   "cell_type": "markdown",
   "metadata": {},
   "source": [
    "### Connect to the Api"
   ]
  },
  {
   "cell_type": "code",
   "execution_count": 3,
   "metadata": {},
   "outputs": [
    {
     "name": "stdout",
     "output_type": "stream",
     "text": [
      "Connected to:     http://localhost:8080/api/\n"
     ]
    }
   ],
   "source": [
    "params = {\n",
    "    'key_identity': client_id,\n",
    "    'key_credential': client_secret\n",
    "}\n",
    "\n",
    "access_url = endpoint\n",
    "print(\"Connected to:    \", access_url)"
   ]
  },
  {
   "cell_type": "markdown",
   "metadata": {},
   "source": [
    "### Navigate the xml and converts it to json"
   ]
  },
  {
   "cell_type": "code",
   "execution_count": 4,
   "metadata": {},
   "outputs": [],
   "source": [
    "dictionary = {}\n",
    "fileName = ''\n",
    "\n",
    "for file in glob.glob(\"../input/*\"):\n",
    "    root = ET.parse(file).getroot()\n",
    "    fileName = str(os.path.basename(file))\n",
    "    \n",
    "    for group in root.findall('family/group'):\n",
    "        groupName = group.attrib['name']\n",
    "        item = group.findall('item')\n",
    "        \n",
    "        for value in item:\n",
    "            fieldName = value.attrib['name']         \n",
    "            matchingName = groupName +\"_\"+ fieldName\n",
    "            fieldValue = value.text\n",
    "            \n",
    "            #fix getty links \n",
    "            if \"getty\" in str(fieldValue) and 'subjectid=' in str(fieldValue) and '[' in str(fieldValue) and '[' in str(fieldValue):\n",
    "                name  = fieldValue.split('[')[0].split(']')[0]\n",
    "                url  = fieldValue.split('[')[1].split(']')[0]\n",
    "\n",
    "                if  'subjectid=' in str(url):\n",
    "                    url  = url.split('subjectid=')[1]\n",
    "                    fieldValue = name + \"; http://vocab.getty.edu/page/tgn/\" +  url            \n",
    "\n",
    "            cleanedText = str(fieldValue).replace(\"None\", \"\").replace(\"\\n\", \"\").replace(\"\\t\", \" \").replace('\"', '').replace(\"'\", \"\")\n",
    "            \n",
    "            # Creating/appending to a JSON structure\n",
    "            if fileName not in dictionary:\n",
    "                dictionary[fileName] = { matchingName :  [cleanedText] }\n",
    "            else:\n",
    "                if matchingName not in dictionary[fileName]:\n",
    "                    dictionary[fileName][matchingName] = [cleanedText]\n",
    "                else:\n",
    "                    dictionary[fileName][matchingName].append(cleanedText)"
   ]
  },
  {
   "cell_type": "markdown",
   "metadata": {},
   "source": [
    "#### Structure a JSON-LD item"
   ]
  },
  {
   "cell_type": "code",
   "execution_count": 109,
   "metadata": {},
   "outputs": [],
   "source": [
    "def structureField(dict_type, property_id, value):\n",
    "    return { dict_type: [ { \"type\": \"literal\", \"property_id\": property_id, \"@value\": value } ]}\n",
    "\n",
    "def structureLabel(dict_type, property_id, value, **lang):\n",
    "    \n",
    "    if lang:\n",
    "        return {\"type\": dict_type, \"property_id\": property_id, \"@value\": value, \"@language\": lang}\n",
    "    else:\n",
    "        return {\"type\": dict_type, \"property_id\": property_id, \"@value\": value}"
   ]
  },
  {
   "cell_type": "markdown",
   "metadata": {},
   "source": [
    "### Import a single Item"
   ]
  },
  {
   "cell_type": "code",
   "execution_count": 6,
   "metadata": {},
   "outputs": [],
   "source": [
    "item = 46 # The number according to the omeka s resource"
   ]
  },
  {
   "cell_type": "markdown",
   "metadata": {},
   "source": [
    "Search for the identifier and the values in the XML File"
   ]
  },
  {
   "cell_type": "code",
   "execution_count": 7,
   "metadata": {},
   "outputs": [
    {
     "name": "stdout",
     "output_type": "stream",
     "text": [
      "G_078_152\n"
     ]
    }
   ],
   "source": [
    "url = endpoint + \"items/\" + str(item)\n",
    "response = json.loads(urllib.request.urlopen(url).read().decode('utf-8'))\n",
    "identifier = response['dcterms:identifier'][0]['@value']\n",
    "\n",
    "print(identifier)"
   ]
  },
  {
   "cell_type": "markdown",
   "metadata": {},
   "source": [
    "##### Simple entry"
   ]
  },
  {
   "cell_type": "code",
   "execution_count": 13,
   "metadata": {},
   "outputs": [
    {
     "name": "stdout",
     "output_type": "stream",
     "text": [
      "{'dcterms:format': [{'type': 'literal', 'property_id': 9, '@value': '75,7x57,6x2,5'}]}\n"
     ]
    }
   ],
   "source": [
    "dcformat = structureField('dcterms:format', 9, dictionary[identifier]['Objekt_Gem\\u00e4lde Ma\\u00dfe max. (H x B x T in cm)'][0])\n",
    "print(dcformat)"
   ]
  },
  {
   "cell_type": "markdown",
   "metadata": {},
   "source": [
    "##### Nested entries"
   ]
  },
  {
   "cell_type": "code",
   "execution_count": 8,
   "metadata": {},
   "outputs": [],
   "source": [
    "valueID = 'Frühere Inventarnummer_Inventarnummer'\n",
    "dictionaryID = 'dcterms:abstract'\n",
    "propertyID = 19"
   ]
  },
  {
   "cell_type": "code",
   "execution_count": 9,
   "metadata": {},
   "outputs": [
    {
     "name": "stdout",
     "output_type": "stream",
     "text": [
      "Frühere Inventarnummer_Inventarnummer ['158', '663 (668?)', '78']\n",
      "Frühere Inventarnummer_Herleitung ['Q3; Q5', 'B102; Q47', 'Q27']\n"
     ]
    }
   ],
   "source": [
    "# Check related entries - only for debug\n",
    "for i in dictionary[identifier].keys():\n",
    "    if valueID.split('_')[0] in i:\n",
    "        singleItem = dictionary[identifier][i]\n",
    "        print(i, singleItem)"
   ]
  },
  {
   "cell_type": "code",
   "execution_count": 11,
   "metadata": {},
   "outputs": [
    {
     "name": "stdout",
     "output_type": "stream",
     "text": [
      "{'dcterms:abstract': [{'type': 'literal', 'property_id': 19, '@value': '158'}, {'type': 'pinadatatypes:note', 'property_id': 19, '@value': 'Q3; Q5'}, {'type': 'literal', 'property_id': 19, '@value': '663 (668?)'}, {'type': 'pinadatatypes:note', 'property_id': 19, '@value': 'B102; Q47'}, {'type': 'literal', 'property_id': 19, '@value': '78'}, {'type': 'pinadatatypes:note', 'property_id': 19, '@value': 'Q27'}]}\n"
     ]
    }
   ],
   "source": [
    "objectEntry =  { dictionaryID: [] }\n",
    "\n",
    "mainField = dictionary[identifier]['Frühere Inventarnummer_Inventarnummer']\n",
    "\n",
    "# i am checking the length of the first element - double check if secondary fields have more entries\n",
    "for i in range(len(mainField)): \n",
    "    \n",
    "    itemid = mainField[i]\n",
    "    note = dictionary[identifier]['Frühere Inventarnummer_Herleitung'][i]\n",
    "     \n",
    "    if(itemid != \"\"):\n",
    "        elem = structureLabel('literal', propertyID, itemid)\n",
    "        objectEntry[dictionaryID].append(elem)\n",
    "\n",
    "    if(note != \"\"):\n",
    "        elem = structureLabel('pinadatatypes:note', propertyID, note)\n",
    "        objectEntry[dictionaryID].append(elem)   \n",
    "\n",
    "print(objectEntry)"
   ]
  },
  {
   "cell_type": "markdown",
   "metadata": {},
   "source": [
    "##### Merge all jsons previously defined"
   ]
  },
  {
   "cell_type": "code",
   "execution_count": 14,
   "metadata": {},
   "outputs": [],
   "source": [
    "patch = { **dcformat, **objectEntry }"
   ]
  },
  {
   "cell_type": "code",
   "execution_count": 15,
   "metadata": {},
   "outputs": [
    {
     "name": "stdout",
     "output_type": "stream",
     "text": [
      "{\"@context\": \"http://localhost:8080/api-context\", \"@id\": \"http://localhost:8080/api/items/46\", \"@type\": [\"o:Item\", \"dctype:Image\"], \"o:id\": 46, \"o:is_public\": true, \"o:owner\": {\"@id\": \"http://localhost:8080/api/users/1\", \"o:id\": 1}, \"o:resource_class\": {\"@id\": \"http://localhost:8080/api/resource_classes/26\", \"o:id\": 26}, \"o:resource_template\": {\"@id\": \"http://localhost:8080/api/resource_templates/2\", \"o:id\": 2}, \"o:thumbnail\": null, \"o:title\": \"G_078_152\", \"thumbnail_display_urls\": {\"large\": null, \"medium\": null, \"square\": null}, \"o:created\": {\"@value\": \"2021-04-06T09:35:39+00:00\", \"@type\": \"http://www.w3.org/2001/XMLSchema#dateTime\"}, \"o:modified\": {\"@value\": \"2021-04-08T14:21:36+00:00\", \"@type\": \"http://www.w3.org/2001/XMLSchema#dateTime\"}, \"o:media\": [], \"o:item_set\": [], \"o:site\": [], \"dcterms:identifier\": [{\"type\": \"literal\", \"property_id\": 10, \"property_label\": \"Identifier\", \"is_public\": true, \"@value\": \"G_078_152\"}], \"dcterms:abstract\": [{\"type\": \"literal\", \"property_id\": 19, \"@value\": \"158\"}, {\"type\": \"pinadatatypes:note\", \"property_id\": 19, \"@value\": \"Q3; Q5\"}, {\"type\": \"literal\", \"property_id\": 19, \"@value\": \"663 (668?)\"}, {\"type\": \"pinadatatypes:note\", \"property_id\": 19, \"@value\": \"B102; Q47\"}, {\"type\": \"literal\", \"property_id\": 19, \"@value\": \"78\"}, {\"type\": \"pinadatatypes:note\", \"property_id\": 19, \"@value\": \"Q27\"}], \"dcterms:format\": [{\"type\": \"literal\", \"property_id\": 9, \"@value\": \"75,7x57,6x2,5\"}]}\n"
     ]
    }
   ],
   "source": [
    "# Get current content\n",
    "url = endpoint + \"items/\" + str(item)\n",
    "response = json.loads(urllib.request.urlopen(url).read().decode('utf-8'))\n",
    "\n",
    "identifier = response['dcterms:identifier'][0]['@value']\n",
    "\n",
    "# Add items to post\n",
    "response.update(patch)\n",
    "\n",
    "# Merge with the response json\n",
    "postRequest = json.dumps(response)\n",
    "\n",
    "print(postRequest)"
   ]
  },
  {
   "cell_type": "markdown",
   "metadata": {},
   "source": [
    "#### Update fields"
   ]
  },
  {
   "cell_type": "code",
   "execution_count": 16,
   "metadata": {},
   "outputs": [
    {
     "name": "stdout",
     "output_type": "stream",
     "text": [
      "http://localhost:8080/api/items/46\n"
     ]
    }
   ],
   "source": [
    "putUrl = endpoint + \"items/\" + str(item) \n",
    "headers = {\"Content-Type\": \"application/json\"}\n",
    "\n",
    "print(putUrl)\n",
    "r = requests.patch(putUrl, data=postRequest, params = params, headers=headers)"
   ]
  },
  {
   "cell_type": "markdown",
   "metadata": {},
   "source": [
    "### Upload Image"
   ]
  },
  {
   "cell_type": "code",
   "execution_count": 37,
   "metadata": {},
   "outputs": [],
   "source": [
    "item = 46 # The number according to the omeka s resource"
   ]
  },
  {
   "cell_type": "code",
   "execution_count": null,
   "metadata": {},
   "outputs": [],
   "source": [
    "image = 'test.png'\n",
    "imageType = 'png'"
   ]
  },
  {
   "cell_type": "code",
   "execution_count": null,
   "metadata": {},
   "outputs": [],
   "source": [
    "data = {\n",
    "    \"o:ingester\": \"upload\", \n",
    "    \"file_index\": \"0\", \n",
    "    \"o:item\": {\"o:id\": item }\n",
    "}\n",
    "\n",
    "files = [\n",
    "     ('data', (None, json.dumps(data), 'application/json')),\n",
    "     ('file[0]', (image, open(image, 'rb'), 'image/' + imageType))\n",
    "]\n",
    "\n",
    "response = requests.post(endpoint + '/media', params=params, files=files)"
   ]
  }
 ],
 "metadata": {
  "kernelspec": {
   "display_name": "Python 3",
   "language": "python",
   "name": "python3"
  },
  "language_info": {
   "codemirror_mode": {
    "name": "ipython",
    "version": 3
   },
   "file_extension": ".py",
   "mimetype": "text/x-python",
   "name": "python",
   "nbconvert_exporter": "python",
   "pygments_lexer": "ipython3",
   "version": "3.8.5"
  }
 },
 "nbformat": 4,
 "nbformat_minor": 4
}
