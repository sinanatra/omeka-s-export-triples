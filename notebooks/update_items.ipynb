{
 "cells": [
  {
   "cell_type": "markdown",
   "metadata": {},
   "source": [
    "# Update Items"
   ]
  },
  {
   "cell_type": "markdown",
   "metadata": {},
   "source": [
    "### Import Libraries"
   ]
  },
  {
   "cell_type": "code",
   "execution_count": 1,
   "metadata": {},
   "outputs": [],
   "source": [
    "import glob\n",
    "import os\n",
    "import json\n",
    "import xml.etree.ElementTree as ET\n",
    "import requests\n",
    "from urllib import parse\n",
    "import argparse\n",
    "import urllib.request\n",
    "import configparser\n",
    "import tqdm\n",
    "import time"
   ]
  },
  {
   "cell_type": "markdown",
   "metadata": {},
   "source": [
    "### Get configuration file"
   ]
  },
  {
   "cell_type": "code",
   "execution_count": 2,
   "metadata": {},
   "outputs": [],
   "source": [
    "config = configparser.ConfigParser()\n",
    "config.sections()\n",
    "config.read('../config/api.ini')\n",
    "client_id = config.get('main', 'client_id')\n",
    "client_secret = config.get('main', 'client_secret')\n",
    "endpoint = config.get('main', 'endpoint')"
   ]
  },
  {
   "cell_type": "markdown",
   "metadata": {},
   "source": [
    "### Connect to the Api"
   ]
  },
  {
   "cell_type": "code",
   "execution_count": 3,
   "metadata": {},
   "outputs": [
    {
     "name": "stdout",
     "output_type": "stream",
     "text": [
      "Connected to:     http://localhost:8080/api/\n"
     ]
    }
   ],
   "source": [
    "params = {\n",
    "    'key_identity': client_id,\n",
    "    'key_credential': client_secret\n",
    "}\n",
    "\n",
    "access_url = endpoint\n",
    "print(\"Connected to:    \", access_url)"
   ]
  },
  {
   "cell_type": "markdown",
   "metadata": {},
   "source": [
    "### Navigate the xml and converts it to json"
   ]
  },
  {
   "cell_type": "code",
   "execution_count": 4,
   "metadata": {},
   "outputs": [],
   "source": [
    "dictionary = {}\n",
    "fileName = ''\n",
    "\n",
    "for file in glob.glob(\"../input/*\"):\n",
    "    root = ET.parse(file).getroot()\n",
    "    fileName = str(os.path.basename(file))\n",
    "    \n",
    "    for group in root.findall('family/group'):\n",
    "        groupName = group.attrib['name']\n",
    "        item = group.findall('item')\n",
    "        \n",
    "        for value in item:\n",
    "            fieldName = value.attrib['name']         \n",
    "            matchingName = groupName +\"_\"+ fieldName\n",
    "            fieldValue = value.text\n",
    "            \n",
    "            #fix getty links \n",
    "            if \"getty\" in str(fieldValue) and 'subjectid=' in str(fieldValue) and '[' in str(fieldValue) and '[' in str(fieldValue):\n",
    "                name  = fieldValue.split('[')[0].split(']')[0]\n",
    "                url  = fieldValue.split('[')[1].split(']')[0]\n",
    "\n",
    "                fieldValue = name + \"; http://vocab.getty.edu/page/tgn/\" +  replaceElement\n",
    "\n",
    "                if  'subjectid=' in str(url):\n",
    "                    url  = url.split('subjectid=')[1]\n",
    "                    fieldValue = name + \"; http://vocab.getty.edu/page/tgn/\" +  url\n",
    "                    \n",
    "            cleanedText = str(fieldValue).replace(\"None\", \"\").replace(\"\\n\", \"\").replace(\"\\t\", \" \").replace('\"', '').replace(\"'\", \"\")\n",
    "            \n",
    "            # Creating/appending to a JSON structure\n",
    "            if fileName not in dictionary:\n",
    "                dictionary[fileName] = { matchingName :  [cleanedText] }\n",
    "            else:\n",
    "                if matchingName not in dictionary[fileName]:\n",
    "                    dictionary[fileName][matchingName] = [cleanedText]\n",
    "                else:\n",
    "                    dictionary[fileName][matchingName].append(cleanedText)"
   ]
  },
  {
   "cell_type": "markdown",
   "metadata": {},
   "source": [
    "#### Structure a JSON-LD item"
   ]
  },
  {
   "cell_type": "code",
   "execution_count": 109,
   "metadata": {},
   "outputs": [],
   "source": [
    "def structureField(dict_type, property_id, value):\n",
    "    return { dict_type: [ { \"type\": \"literal\", \"property_id\": property_id, \"@value\": value } ]}\n",
    "\n",
    "def structureLabel(dict_type, property_id, value, **lang):\n",
    "    \n",
    "    if lang:\n",
    "        return {\"type\": dict_type, \"property_id\": property_id, \"@value\": value, \"@language\": lang}\n",
    "    else:\n",
    "        return {\"type\": dict_type, \"property_id\": property_id, \"@value\": value}"
   ]
  },
  {
   "cell_type": "markdown",
   "metadata": {},
   "source": [
    "### Import multiple items"
   ]
  },
  {
   "cell_type": "code",
   "execution_count": 110,
   "metadata": {},
   "outputs": [
    {
     "name": "stdout",
     "output_type": "stream",
     "text": [
      "http://localhost:8080/api/items?page=all\n"
     ]
    },
    {
     "name": "stderr",
     "output_type": "stream",
     "text": [
      "description:   0%|          | 0/641 [00:00<?, ?it/s]"
     ]
    },
    {
     "name": "stdout",
     "output_type": "stream",
     "text": [
      "structureLabel() takes 3 positional arguments but 4 were given\n",
      "structureLabel() takes 3 positional arguments but 4 were given\n",
      "structureLabel() takes 3 positional arguments but 4 were given\n",
      "structureLabel() takes 3 positional arguments but 4 were given\n",
      "structureLabel() takes 3 positional arguments but 4 were given\n",
      "structureLabel() takes 3 positional arguments but 4 were given\n",
      "structureLabel() takes 3 positional arguments but 4 were given\n",
      "structureLabel() takes 3 positional arguments but 4 were given\n",
      "structureLabel() takes 3 positional arguments but 4 were given\n",
      "structureLabel() takes 3 positional arguments but 4 were given\n",
      "structureLabel() takes 3 positional arguments but 4 were given\n",
      "structureLabel() takes 3 positional arguments but 4 were given\n",
      "structureLabel() takes 3 positional arguments but 4 were given\n",
      "structureLabel() takes 3 positional arguments but 4 were given\n"
     ]
    },
    {
     "name": "stderr",
     "output_type": "stream",
     "text": [
      "ITEM: R_15_594| ID: 48:   2%|▏         | 15/641 [00:00<00:36, 17.32it/s]"
     ]
    },
    {
     "name": "stdout",
     "output_type": "stream",
     "text": [
      "structureLabel() takes 3 positional arguments but 4 were given\n",
      "structureLabel() takes 3 positional arguments but 4 were given\n",
      "structureLabel() takes 3 positional arguments but 4 were given\n",
      "structureLabel() takes 3 positional arguments but 4 were given\n",
      "structureLabel() takes 3 positional arguments but 4 were given\n"
     ]
    },
    {
     "name": "stderr",
     "output_type": "stream",
     "text": [
      "ITEM: R_14_593| ID: 54:   3%|▎         | 21/641 [00:01<00:53, 11.62it/s]"
     ]
    },
    {
     "name": "stdout",
     "output_type": "stream",
     "text": [
      "structureLabel() takes 3 positional arguments but 4 were given\n",
      "structureLabel() takes 3 positional arguments but 4 were given\n",
      "structureLabel() takes 3 positional arguments but 4 were given\n",
      "structureLabel() takes 3 positional arguments but 4 were given\n",
      "structureLabel() takes 3 positional arguments but 4 were given\n",
      "structureLabel() takes 3 positional arguments but 4 were given\n",
      "structureLabel() takes 3 positional arguments but 4 were given\n",
      "structureLabel() takes 3 positional arguments but 4 were given\n",
      "structureLabel() takes 3 positional arguments but 4 were given\n",
      "structureLabel() takes 3 positional arguments but 4 were given\n",
      "structureLabel() takes 3 positional arguments but 4 were given\n",
      "structureLabel() takes 3 positional arguments but 4 were given\n",
      "structureLabel() takes 3 positional arguments but 4 were given\n",
      "structureLabel() takes 3 positional arguments but 4 were given\n",
      "structureLabel() takes 3 positional arguments but 4 were given\n",
      "structureLabel() takes 3 positional arguments but 4 were given\n",
      "structureLabel() takes 3 positional arguments but 4 were given\n",
      "structureLabel() takes 3 positional arguments but 4 were given\n",
      "structureLabel() takes 3 positional arguments but 4 were given\n",
      "structureLabel() takes 3 positional arguments but 4 were given\n",
      "structureLabel() takes 3 positional arguments but 4 were given\n",
      "structureLabel() takes 3 positional arguments but 4 were given\n",
      "structureLabel() takes 3 positional arguments but 4 were given\n",
      "structureLabel() takes 3 positional arguments but 4 were given\n",
      "structureLabel() takes 3 positional arguments but 4 were given\n",
      "structureLabel() takes 3 positional arguments but 4 were given\n",
      "structureLabel() takes 3 positional arguments but 4 were given\n",
      "structureLabel() takes 3 positional arguments but 4 were given\n",
      "structureLabel() takes 3 positional arguments but 4 were given\n",
      "structureLabel() takes 3 positional arguments but 4 were given\n"
     ]
    },
    {
     "name": "stderr",
     "output_type": "stream",
     "text": [
      "ITEM: G_292_367| ID: 85:   8%|▊         | 52/641 [00:02<00:40, 14.54it/s]"
     ]
    },
    {
     "name": "stdout",
     "output_type": "stream",
     "text": [
      "structureLabel() takes 3 positional arguments but 4 were given\n",
      "structureLabel() takes 3 positional arguments but 4 were given\n",
      "structureLabel() takes 3 positional arguments but 4 were given\n",
      "structureLabel() takes 3 positional arguments but 4 were given\n",
      "structureLabel() takes 3 positional arguments but 4 were given\n",
      "structureLabel() takes 3 positional arguments but 4 were given\n",
      "structureLabel() takes 3 positional arguments but 4 were given\n",
      "structureLabel() takes 3 positional arguments but 4 were given\n",
      "structureLabel() takes 3 positional arguments but 4 were given\n",
      "structureLabel() takes 3 positional arguments but 4 were given\n",
      "structureLabel() takes 3 positional arguments but 4 were given\n",
      "structureLabel() takes 3 positional arguments but 4 were given\n",
      "structureLabel() takes 3 positional arguments but 4 were given\n",
      "structureLabel() takes 3 positional arguments but 4 were given\n",
      "structureLabel() takes 3 positional arguments but 4 were given\n",
      "structureLabel() takes 3 positional arguments but 4 were given\n",
      "structureLabel() takes 3 positional arguments but 4 were given\n",
      "structureLabel() takes 3 positional arguments but 4 were given\n",
      "structureLabel() takes 3 positional arguments but 4 were given\n",
      "structureLabel() takes 3 positional arguments but 4 were given\n",
      "structureLabel() takes 3 positional arguments but 4 were given\n",
      "structureLabel() takes 3 positional arguments but 4 were given\n",
      "structureLabel() takes 3 positional arguments but 4 were given\n",
      "structureLabel() takes 3 positional arguments but 4 were given\n",
      "structureLabel() takes 3 positional arguments but 4 were given\n",
      "structureLabel() takes 3 positional arguments but 4 were given\n",
      "structureLabel() takes 3 positional arguments but 4 were given\n",
      "structureLabel() takes 3 positional arguments but 4 were given\n",
      "structureLabel() takes 3 positional arguments but 4 were given\n",
      "structureLabel() takes 3 positional arguments but 4 were given\n",
      "structureLabel() takes 3 positional arguments but 4 were given\n",
      "structureLabel() takes 3 positional arguments but 4 were given\n",
      "structureLabel() takes 3 positional arguments but 4 were given\n",
      "structureLabel() takes 3 positional arguments but 4 were given\n",
      "structureLabel() takes 3 positional arguments but 4 were given\n",
      "structureLabel() takes 3 positional arguments but 4 were given\n",
      "structureLabel() takes 3 positional arguments but 4 were given\n",
      "structureLabel() takes 3 positional arguments but 4 were given\n",
      "structureLabel() takes 3 positional arguments but 4 were given\n",
      "structureLabel() takes 3 positional arguments but 4 were given\n",
      "structureLabel() takes 3 positional arguments but 4 were given\n",
      "structureLabel() takes 3 positional arguments but 4 were given\n",
      "structureLabel() takes 3 positional arguments but 4 were given\n",
      "structureLabel() takes 3 positional arguments but 4 were given\n",
      "structureLabel() takes 3 positional arguments but 4 were given\n",
      "structureLabel() takes 3 positional arguments but 4 were given\n",
      "structureLabel() takes 3 positional arguments but 4 were given\n",
      "structureLabel() takes 3 positional arguments but 4 were given\n",
      "structureLabel() takes 3 positional arguments but 4 were given\n",
      "structureLabel() takes 3 positional arguments but 4 were given\n",
      "structureLabel() takes 3 positional arguments but 4 were given\n",
      "structureLabel() takes 3 positional arguments but 4 were given\n",
      "structureLabel() takes 3 positional arguments but 4 were given\n",
      "structureLabel() takes 3 positional arguments but 4 were given\n",
      "structureLabel() takes 3 positional arguments but 4 were given\n",
      "structureLabel() takes 3 positional arguments but 4 were given\n",
      "structureLabel() takes 3 positional arguments but 4 were given\n",
      "structureLabel() takes 3 positional arguments but 4 were given\n",
      "structureLabel() takes 3 positional arguments but 4 were given\n",
      "structureLabel() takes 3 positional arguments but 4 were given\n",
      "structureLabel() takes 3 positional arguments but 4 were given\n",
      "structureLabel() takes 3 positional arguments but 4 were given\n",
      "structureLabel() takes 3 positional arguments but 4 were given\n",
      "structureLabel() takes 3 positional arguments but 4 were given\n",
      "structureLabel() takes 3 positional arguments but 4 were given\n",
      "structureLabel() takes 3 positional arguments but 4 were given\n",
      "structureLabel() takes 3 positional arguments but 4 were given\n"
     ]
    },
    {
     "name": "stderr",
     "output_type": "stream",
     "text": [
      "ITEM: R_13_592| ID: 153:  19%|█▊        | 120/641 [00:03<00:27, 19.17it/s]"
     ]
    },
    {
     "name": "stdout",
     "output_type": "stream",
     "text": [
      "structureLabel() takes 3 positional arguments but 4 were given\n",
      "structureLabel() takes 3 positional arguments but 4 were given\n",
      "structureLabel() takes 3 positional arguments but 4 were given\n",
      "structureLabel() takes 3 positional arguments but 4 were given\n",
      "structureLabel() takes 3 positional arguments but 4 were given\n",
      "structureLabel() takes 3 positional arguments but 4 were given\n",
      "structureLabel() takes 3 positional arguments but 4 were given\n",
      "structureLabel() takes 3 positional arguments but 4 were given\n",
      "structureLabel() takes 3 positional arguments but 4 were given\n",
      "structureLabel() takes 3 positional arguments but 4 were given\n",
      "structureLabel() takes 3 positional arguments but 4 were given\n",
      "structureLabel() takes 3 positional arguments but 4 were given\n",
      "structureLabel() takes 3 positional arguments but 4 were given\n",
      "structureLabel() takes 3 positional arguments but 4 were given\n",
      "structureLabel() takes 3 positional arguments but 4 were given\n"
     ]
    },
    {
     "name": "stderr",
     "output_type": "stream",
     "text": [
      "ITEM: G_191_571| ID: 169:  21%|██        | 136/641 [00:04<00:27, 18.68it/s]"
     ]
    },
    {
     "name": "stdout",
     "output_type": "stream",
     "text": [
      "structureLabel() takes 3 positional arguments but 4 were given\n",
      "structureLabel() takes 3 positional arguments but 4 were given\n",
      "structureLabel() takes 3 positional arguments but 4 were given\n",
      "structureLabel() takes 3 positional arguments but 4 were given\n",
      "structureLabel() takes 3 positional arguments but 4 were given\n",
      "structureLabel() takes 3 positional arguments but 4 were given\n",
      "structureLabel() takes 3 positional arguments but 4 were given\n",
      "structureLabel() takes 3 positional arguments but 4 were given\n",
      "structureLabel() takes 3 positional arguments but 4 were given\n",
      "structureLabel() takes 3 positional arguments but 4 were given\n",
      "structureLabel() takes 3 positional arguments but 4 were given\n",
      "structureLabel() takes 3 positional arguments but 4 were given\n",
      "structureLabel() takes 3 positional arguments but 4 were given\n",
      "structureLabel() takes 3 positional arguments but 4 were given\n",
      "structureLabel() takes 3 positional arguments but 4 were given\n",
      "structureLabel() takes 3 positional arguments but 4 were given\n",
      "structureLabel() takes 3 positional arguments but 4 were given\n",
      "structureLabel() takes 3 positional arguments but 4 were given\n",
      "structureLabel() takes 3 positional arguments but 4 were given\n",
      "structureLabel() takes 3 positional arguments but 4 were given\n",
      "structureLabel() takes 3 positional arguments but 4 were given\n",
      "structureLabel() takes 3 positional arguments but 4 were given\n",
      "structureLabel() takes 3 positional arguments but 4 were given\n",
      "structureLabel() takes 3 positional arguments but 4 were given\n",
      "structureLabel() takes 3 positional arguments but 4 were given\n",
      "structureLabel() takes 3 positional arguments but 4 were given\n",
      "structureLabel() takes 3 positional arguments but 4 were given\n",
      "structureLabel() takes 3 positional arguments but 4 were given\n",
      "structureLabel() takes 3 positional arguments but 4 were given\n",
      "structureLabel() takes 3 positional arguments but 4 were given\n",
      "structureLabel() takes 3 positional arguments but 4 were given\n",
      "structureLabel() takes 3 positional arguments but 4 were given\n",
      "structureLabel() takes 3 positional arguments but 4 were given\n",
      "structureLabel() takes 3 positional arguments but 4 were given\n",
      "structureLabel() takes 3 positional arguments but 4 were given\n",
      "structureLabel() takes 3 positional arguments but 4 were given\n",
      "structureLabel() takes 3 positional arguments but 4 were given\n",
      "structureLabel() takes 3 positional arguments but 4 were given\n",
      "structureLabel() takes 3 positional arguments but 4 were given\n"
     ]
    },
    {
     "name": "stderr",
     "output_type": "stream",
     "text": [
      "ITEM: R_07_586| ID: 209:  27%|██▋       | 176/641 [00:05<00:20, 22.57it/s] "
     ]
    },
    {
     "name": "stdout",
     "output_type": "stream",
     "text": [
      "structureLabel() takes 3 positional arguments but 4 were given\n",
      "structureLabel() takes 3 positional arguments but 4 were given\n",
      "structureLabel() takes 3 positional arguments but 4 were given\n",
      "structureLabel() takes 3 positional arguments but 4 were given\n",
      "structureLabel() takes 3 positional arguments but 4 were given\n",
      "structureLabel() takes 3 positional arguments but 4 were given\n",
      "structureLabel() takes 3 positional arguments but 4 were given\n",
      "structureLabel() takes 3 positional arguments but 4 were given\n",
      "structureLabel() takes 3 positional arguments but 4 were given\n"
     ]
    },
    {
     "name": "stderr",
     "output_type": "stream",
     "text": [
      "ITEM: R_10_589| ID: 219:  29%|██▉       | 186/641 [00:06<00:26, 17.16it/s]"
     ]
    },
    {
     "name": "stdout",
     "output_type": "stream",
     "text": [
      "structureLabel() takes 3 positional arguments but 4 were given\n",
      "structureLabel() takes 3 positional arguments but 4 were given\n",
      "structureLabel() takes 3 positional arguments but 4 were given\n"
     ]
    },
    {
     "name": "stderr",
     "output_type": "stream",
     "text": [
      "ITEM: R_04_580| ID: 223:  30%|██▉       | 190/641 [00:07<00:48,  9.21it/s]"
     ]
    },
    {
     "name": "stdout",
     "output_type": "stream",
     "text": [
      "structureLabel() takes 3 positional arguments but 4 were given\n",
      "structureLabel() takes 3 positional arguments but 4 were given\n",
      "structureLabel() takes 3 positional arguments but 4 were given\n",
      "structureLabel() takes 3 positional arguments but 4 were given\n",
      "structureLabel() takes 3 positional arguments but 4 were given\n",
      "structureLabel() takes 3 positional arguments but 4 were given\n",
      "structureLabel() takes 3 positional arguments but 4 were given\n",
      "structureLabel() takes 3 positional arguments but 4 were given\n",
      "structureLabel() takes 3 positional arguments but 4 were given\n",
      "structureLabel() takes 3 positional arguments but 4 were given\n",
      "structureLabel() takes 3 positional arguments but 4 were given\n",
      "structureLabel() takes 3 positional arguments but 4 were given\n",
      "structureLabel() takes 3 positional arguments but 4 were given\n",
      "structureLabel() takes 3 positional arguments but 4 were given\n",
      "structureLabel() takes 3 positional arguments but 4 were given\n",
      "structureLabel() takes 3 positional arguments but 4 were given\n",
      "structureLabel() takes 3 positional arguments but 4 were given\n",
      "structureLabel() takes 3 positional arguments but 4 were given\n",
      "structureLabel() takes 3 positional arguments but 4 were given\n",
      "structureLabel() takes 3 positional arguments but 4 were given\n",
      "structureLabel() takes 3 positional arguments but 4 were given\n",
      "structureLabel() takes 3 positional arguments but 4 were given\n",
      "structureLabel() takes 3 positional arguments but 4 were given\n",
      "structureLabel() takes 3 positional arguments but 4 were given\n",
      "structureLabel() takes 3 positional arguments but 4 were given\n",
      "structureLabel() takes 3 positional arguments but 4 were given\n",
      "structureLabel() takes 3 positional arguments but 4 were given\n",
      "structureLabel() takes 3 positional arguments but 4 were given\n",
      "structureLabel() takes 3 positional arguments but 4 were given\n",
      "structureLabel() takes 3 positional arguments but 4 were given\n",
      "structureLabel() takes 3 positional arguments but 4 were given\n",
      "structureLabel() takes 3 positional arguments but 4 were given\n",
      "structureLabel() takes 3 positional arguments but 4 were given\n",
      "structureLabel() takes 3 positional arguments but 4 were given\n",
      "structureLabel() takes 3 positional arguments but 4 were given\n",
      "structureLabel() takes 3 positional arguments but 4 were given\n",
      "structureLabel() takes 3 positional arguments but 4 were given\n",
      "structureLabel() takes 3 positional arguments but 4 were given\n",
      "structureLabel() takes 3 positional arguments but 4 were given\n",
      "structureLabel() takes 3 positional arguments but 4 were given\n",
      "structureLabel() takes 3 positional arguments but 4 were given\n",
      "structureLabel() takes 3 positional arguments but 4 were given\n",
      "structureLabel() takes 3 positional arguments but 4 were given\n",
      "structureLabel() takes 3 positional arguments but 4 were given\n",
      "structureLabel() takes 3 positional arguments but 4 were given\n",
      "structureLabel() takes 3 positional arguments but 4 were given\n",
      "structureLabel() takes 3 positional arguments but 4 were given\n",
      "structureLabel() takes 3 positional arguments but 4 were given\n",
      "structureLabel() takes 3 positional arguments but 4 were given\n",
      "structureLabel() takes 3 positional arguments but 4 were given\n",
      "structureLabel() takes 3 positional arguments but 4 were given\n",
      "structureLabel() takes 3 positional arguments but 4 were given\n",
      "structureLabel() takes 3 positional arguments but 4 were given\n",
      "structureLabel() takes 3 positional arguments but 4 were given\n",
      "structureLabel() takes 3 positional arguments but 4 were given\n",
      "structureLabel() takes 3 positional arguments but 4 were given\n",
      "structureLabel() takes 3 positional arguments but 4 were given\n",
      "structureLabel() takes 3 positional arguments but 4 were given\n",
      "structureLabel() takes 3 positional arguments but 4 were given\n",
      "structureLabel() takes 3 positional arguments but 4 were given\n"
     ]
    },
    {
     "name": "stderr",
     "output_type": "stream",
     "text": [
      "ITEM: G_000_400| ID: 284:  39%|███▉      | 251/641 [00:08<00:31, 12.42it/s]"
     ]
    },
    {
     "name": "stdout",
     "output_type": "stream",
     "text": [
      "structureLabel() takes 3 positional arguments but 4 were given\n",
      "structureLabel() takes 3 positional arguments but 4 were given\n",
      "structureLabel() takes 3 positional arguments but 4 were given\n",
      "structureLabel() takes 3 positional arguments but 4 were given\n",
      "structureLabel() takes 3 positional arguments but 4 were given\n",
      "structureLabel() takes 3 positional arguments but 4 were given\n",
      "structureLabel() takes 3 positional arguments but 4 were given\n",
      "structureLabel() takes 3 positional arguments but 4 were given\n",
      "structureLabel() takes 3 positional arguments but 4 were given\n",
      "structureLabel() takes 3 positional arguments but 4 were given\n",
      "structureLabel() takes 3 positional arguments but 4 were given\n",
      "structureLabel() takes 3 positional arguments but 4 were given\n",
      "structureLabel() takes 3 positional arguments but 4 were given\n",
      "structureLabel() takes 3 positional arguments but 4 were given\n",
      "structureLabel() takes 3 positional arguments but 4 were given\n",
      "structureLabel() takes 3 positional arguments but 4 were given\n",
      "structureLabel() takes 3 positional arguments but 4 were given\n",
      "structureLabel() takes 3 positional arguments but 4 were given\n",
      "structureLabel() takes 3 positional arguments but 4 were given\n",
      "structureLabel() takes 3 positional arguments but 4 were given\n",
      "structureLabel() takes 3 positional arguments but 4 were given\n",
      "structureLabel() takes 3 positional arguments but 4 were given\n",
      "structureLabel() takes 3 positional arguments but 4 were given\n",
      "structureLabel() takes 3 positional arguments but 4 were given\n",
      "structureLabel() takes 3 positional arguments but 4 were given\n",
      "structureLabel() takes 3 positional arguments but 4 were given\n",
      "structureLabel() takes 3 positional arguments but 4 were given\n",
      "structureLabel() takes 3 positional arguments but 4 were given\n",
      "structureLabel() takes 3 positional arguments but 4 were given\n",
      "structureLabel() takes 3 positional arguments but 4 were given\n"
     ]
    },
    {
     "name": "stderr",
     "output_type": "stream",
     "text": [
      "ITEM: G_314_391| ID: 315:  44%|████▍     | 282/641 [00:09<00:23, 15.36it/s]"
     ]
    },
    {
     "name": "stdout",
     "output_type": "stream",
     "text": [
      "structureLabel() takes 3 positional arguments but 4 were given\n",
      "structureLabel() takes 3 positional arguments but 4 were given\n",
      "structureLabel() takes 3 positional arguments but 4 were given\n",
      "structureLabel() takes 3 positional arguments but 4 were given\n",
      "structureLabel() takes 3 positional arguments but 4 were given\n",
      "structureLabel() takes 3 positional arguments but 4 were given\n",
      "structureLabel() takes 3 positional arguments but 4 were given\n",
      "structureLabel() takes 3 positional arguments but 4 were given\n",
      "structureLabel() takes 3 positional arguments but 4 were given\n",
      "structureLabel() takes 3 positional arguments but 4 were given\n",
      "structureLabel() takes 3 positional arguments but 4 were given\n",
      "structureLabel() takes 3 positional arguments but 4 were given\n",
      "structureLabel() takes 3 positional arguments but 4 were given\n",
      "structureLabel() takes 3 positional arguments but 4 were given\n",
      "structureLabel() takes 3 positional arguments but 4 were given\n",
      "structureLabel() takes 3 positional arguments but 4 were given\n",
      "structureLabel() takes 3 positional arguments but 4 were given\n",
      "structureLabel() takes 3 positional arguments but 4 were given\n",
      "structureLabel() takes 3 positional arguments but 4 were given\n",
      "structureLabel() takes 3 positional arguments but 4 were given\n",
      "structureLabel() takes 3 positional arguments but 4 were given\n",
      "structureLabel() takes 3 positional arguments but 4 were given\n",
      "structureLabel() takes 3 positional arguments but 4 were given\n",
      "structureLabel() takes 3 positional arguments but 4 were given\n",
      "structureLabel() takes 3 positional arguments but 4 were given\n",
      "structureLabel() takes 3 positional arguments but 4 were given\n",
      "structureLabel() takes 3 positional arguments but 4 were given\n",
      "structureLabel() takes 3 positional arguments but 4 were given\n",
      "structureLabel() takes 3 positional arguments but 4 were given\n",
      "structureLabel() takes 3 positional arguments but 4 were given\n",
      "structureLabel() takes 3 positional arguments but 4 were given\n",
      "structureLabel() takes 3 positional arguments but 4 were given\n",
      "structureLabel() takes 3 positional arguments but 4 were given\n",
      "structureLabel() takes 3 positional arguments but 4 were given\n",
      "structureLabel() takes 3 positional arguments but 4 were given\n",
      "structureLabel() takes 3 positional arguments but 4 were given\n",
      "structureLabel() takes 3 positional arguments but 4 were given\n",
      "structureLabel() takes 3 positional arguments but 4 were given\n",
      "structureLabel() takes 3 positional arguments but 4 were given\n",
      "structureLabel() takes 3 positional arguments but 4 were given\n",
      "structureLabel() takes 3 positional arguments but 4 were given\n",
      "structureLabel() takes 3 positional arguments but 4 were given\n",
      "structureLabel() takes 3 positional arguments but 4 were given\n",
      "structureLabel() takes 3 positional arguments but 4 were given\n",
      "structureLabel() takes 3 positional arguments but 4 were given\n",
      "structureLabel() takes 3 positional arguments but 4 were given\n",
      "structureLabel() takes 3 positional arguments but 4 were given\n",
      "structureLabel() takes 3 positional arguments but 4 were given\n",
      "structureLabel() takes 3 positional arguments but 4 were given\n",
      "structureLabel() takes 3 positional arguments but 4 were given\n",
      "structureLabel() takes 3 positional arguments but 4 were given\n",
      "structureLabel() takes 3 positional arguments but 4 were given\n",
      "structureLabel() takes 3 positional arguments but 4 were given\n",
      "structureLabel() takes 3 positional arguments but 4 were given\n",
      "structureLabel() takes 3 positional arguments but 4 were given\n",
      "structureLabel() takes 3 positional arguments but 4 were given\n",
      "structureLabel() takes 3 positional arguments but 4 were given\n",
      "structureLabel() takes 3 positional arguments but 4 were given\n",
      "structureLabel() takes 3 positional arguments but 4 were given\n",
      "structureLabel() takes 3 positional arguments but 4 were given\n",
      "structureLabel() takes 3 positional arguments but 4 were given\n",
      "structureLabel() takes 3 positional arguments but 4 were given\n",
      "structureLabel() takes 3 positional arguments but 4 were given\n",
      "structureLabel() takes 3 positional arguments but 4 were given\n",
      "structureLabel() takes 3 positional arguments but 4 were given\n",
      "structureLabel() takes 3 positional arguments but 4 were given\n",
      "structureLabel() takes 3 positional arguments but 4 were given\n",
      "structureLabel() takes 3 positional arguments but 4 were given\n",
      "structureLabel() takes 3 positional arguments but 4 were given\n",
      "structureLabel() takes 3 positional arguments but 4 were given\n",
      "structureLabel() takes 3 positional arguments but 4 were given\n",
      "structureLabel() takes 3 positional arguments but 4 were given\n",
      "structureLabel() takes 3 positional arguments but 4 were given\n",
      "structureLabel() takes 3 positional arguments but 4 were given\n",
      "structureLabel() takes 3 positional arguments but 4 were given\n",
      "structureLabel() takes 3 positional arguments but 4 were given\n",
      "structureLabel() takes 3 positional arguments but 4 were given\n",
      "structureLabel() takes 3 positional arguments but 4 were given\n",
      "structureLabel() takes 3 positional arguments but 4 were given\n",
      "structureLabel() takes 3 positional arguments but 4 were given\n",
      "structureLabel() takes 3 positional arguments but 4 were given\n",
      "structureLabel() takes 3 positional arguments but 4 were given\n",
      "structureLabel() takes 3 positional arguments but 4 were given\n",
      "structureLabel() takes 3 positional arguments but 4 were given\n",
      "structureLabel() takes 3 positional arguments but 4 were given\n",
      "structureLabel() takes 3 positional arguments but 4 were given\n",
      "structureLabel() takes 3 positional arguments but 4 were given\n",
      "structureLabel() takes 3 positional arguments but 4 were given\n",
      "structureLabel() takes 3 positional arguments but 4 were given\n",
      "structureLabel() takes 3 positional arguments but 4 were given\n",
      "structureLabel() takes 3 positional arguments but 4 were given\n",
      "structureLabel() takes 3 positional arguments but 4 were given\n",
      "structureLabel() takes 3 positional arguments but 4 were given\n",
      "structureLabel() takes 3 positional arguments but 4 were given\n",
      "structureLabel() takes 3 positional arguments but 4 were given\n",
      "structureLabel() takes 3 positional arguments but 4 were given\n",
      "structureLabel() takes 3 positional arguments but 4 were given\n",
      "structureLabel() takes 3 positional arguments but 4 were given\n",
      "structureLabel() takes 3 positional arguments but 4 were given\n",
      "structureLabel() takes 3 positional arguments but 4 were given\n",
      "structureLabel() takes 3 positional arguments but 4 were given\n",
      "structureLabel() takes 3 positional arguments but 4 were given\n",
      "structureLabel() takes 3 positional arguments but 4 were given\n",
      "structureLabel() takes 3 positional arguments but 4 were given\n",
      "structureLabel() takes 3 positional arguments but 4 were given\n",
      "structureLabel() takes 3 positional arguments but 4 were given\n",
      "structureLabel() takes 3 positional arguments but 4 were given\n",
      "structureLabel() takes 3 positional arguments but 4 were given\n",
      "structureLabel() takes 3 positional arguments but 4 were given\n",
      "structureLabel() takes 3 positional arguments but 4 were given\n",
      "structureLabel() takes 3 positional arguments but 4 were given\n",
      "structureLabel() takes 3 positional arguments but 4 were given\n",
      "structureLabel() takes 3 positional arguments but 4 were given\n",
      "structureLabel() takes 3 positional arguments but 4 were given\n",
      "structureLabel() takes 3 positional arguments but 4 were given\n",
      "structureLabel() takes 3 positional arguments but 4 were given\n"
     ]
    },
    {
     "name": "stderr",
     "output_type": "stream",
     "text": [
      "ITEM: R_09_588| ID: 432:  62%|██████▏   | 399/641 [00:09<00:11, 20.86it/s] "
     ]
    },
    {
     "name": "stdout",
     "output_type": "stream",
     "text": [
      "structureLabel() takes 3 positional arguments but 4 were given\n",
      "structureLabel() takes 3 positional arguments but 4 were given\n",
      "structureLabel() takes 3 positional arguments but 4 were given\n",
      "structureLabel() takes 3 positional arguments but 4 were given\n",
      "structureLabel() takes 3 positional arguments but 4 were given\n",
      "structureLabel() takes 3 positional arguments but 4 were given\n",
      "structureLabel() takes 3 positional arguments but 4 were given\n",
      "structureLabel() takes 3 positional arguments but 4 were given\n",
      "structureLabel() takes 3 positional arguments but 4 were given\n",
      "structureLabel() takes 3 positional arguments but 4 were given\n",
      "structureLabel() takes 3 positional arguments but 4 were given\n",
      "structureLabel() takes 3 positional arguments but 4 were given\n",
      "structureLabel() takes 3 positional arguments but 4 were given\n",
      "structureLabel() takes 3 positional arguments but 4 were given\n",
      "structureLabel() takes 3 positional arguments but 4 were given\n",
      "structureLabel() takes 3 positional arguments but 4 were given\n",
      "structureLabel() takes 3 positional arguments but 4 were given\n",
      "structureLabel() takes 3 positional arguments but 4 were given\n",
      "structureLabel() takes 3 positional arguments but 4 were given\n",
      "structureLabel() takes 3 positional arguments but 4 were given\n",
      "structureLabel() takes 3 positional arguments but 4 were given\n",
      "structureLabel() takes 3 positional arguments but 4 were given\n",
      "structureLabel() takes 3 positional arguments but 4 were given\n",
      "structureLabel() takes 3 positional arguments but 4 were given\n",
      "structureLabel() takes 3 positional arguments but 4 were given\n",
      "structureLabel() takes 3 positional arguments but 4 were given\n",
      "structureLabel() takes 3 positional arguments but 4 were given\n",
      "structureLabel() takes 3 positional arguments but 4 were given\n",
      "structureLabel() takes 3 positional arguments but 4 were given\n",
      "structureLabel() takes 3 positional arguments but 4 were given\n",
      "structureLabel() takes 3 positional arguments but 4 were given\n",
      "structureLabel() takes 3 positional arguments but 4 were given\n",
      "structureLabel() takes 3 positional arguments but 4 were given\n",
      "structureLabel() takes 3 positional arguments but 4 were given\n",
      "structureLabel() takes 3 positional arguments but 4 were given\n",
      "structureLabel() takes 3 positional arguments but 4 were given\n",
      "structureLabel() takes 3 positional arguments but 4 were given\n",
      "structureLabel() takes 3 positional arguments but 4 were given\n",
      "structureLabel() takes 3 positional arguments but 4 were given\n",
      "structureLabel() takes 3 positional arguments but 4 were given\n",
      "structureLabel() takes 3 positional arguments but 4 were given\n",
      "structureLabel() takes 3 positional arguments but 4 were given\n",
      "structureLabel() takes 3 positional arguments but 4 were given\n"
     ]
    },
    {
     "name": "stderr",
     "output_type": "stream",
     "text": [
      "ITEM: R_11_590| ID: 476:  69%|██████▉   | 443/641 [00:10<00:07, 25.25it/s]"
     ]
    },
    {
     "name": "stdout",
     "output_type": "stream",
     "text": [
      "structureLabel() takes 3 positional arguments but 4 were given\n",
      "structureLabel() takes 3 positional arguments but 4 were given\n"
     ]
    },
    {
     "name": "stderr",
     "output_type": "stream",
     "text": [
      "ITEM: R_12_591| ID: 479:  70%|███████   | 449/641 [00:11<00:13, 13.71it/s]"
     ]
    },
    {
     "name": "stdout",
     "output_type": "stream",
     "text": [
      "structureLabel() takes 3 positional arguments but 4 were given\n",
      "structureLabel() takes 3 positional arguments but 4 were given\n",
      "structureLabel() takes 3 positional arguments but 4 were given\n",
      "structureLabel() takes 3 positional arguments but 4 were given\n",
      "structureLabel() takes 3 positional arguments but 4 were given\n",
      "structureLabel() takes 3 positional arguments but 4 were given\n",
      "structureLabel() takes 3 positional arguments but 4 were given\n",
      "structureLabel() takes 3 positional arguments but 4 were given\n",
      "structureLabel() takes 3 positional arguments but 4 were given\n",
      "structureLabel() takes 3 positional arguments but 4 were given\n",
      "structureLabel() takes 3 positional arguments but 4 were given\n",
      "structureLabel() takes 3 positional arguments but 4 were given\n",
      "structureLabel() takes 3 positional arguments but 4 were given\n",
      "structureLabel() takes 3 positional arguments but 4 were given\n",
      "structureLabel() takes 3 positional arguments but 4 were given\n",
      "structureLabel() takes 3 positional arguments but 4 were given\n",
      "structureLabel() takes 3 positional arguments but 4 were given\n",
      "structureLabel() takes 3 positional arguments but 4 were given\n",
      "structureLabel() takes 3 positional arguments but 4 were given\n",
      "structureLabel() takes 3 positional arguments but 4 were given\n",
      "structureLabel() takes 3 positional arguments but 4 were given\n",
      "structureLabel() takes 3 positional arguments but 4 were given\n",
      "structureLabel() takes 3 positional arguments but 4 were given\n",
      "structureLabel() takes 3 positional arguments but 4 were given\n",
      "structureLabel() takes 3 positional arguments but 4 were given\n",
      "structureLabel() takes 3 positional arguments but 4 were given\n",
      "structureLabel() takes 3 positional arguments but 4 were given\n"
     ]
    },
    {
     "name": "stderr",
     "output_type": "stream",
     "text": [
      "ITEM: R_08_587| ID: 507:  74%|███████▍  | 474/641 [00:12<00:10, 16.16it/s]"
     ]
    },
    {
     "name": "stdout",
     "output_type": "stream",
     "text": [
      "structureLabel() takes 3 positional arguments but 4 were given\n",
      "structureLabel() takes 3 positional arguments but 4 were given\n",
      "structureLabel() takes 3 positional arguments but 4 were given\n",
      "structureLabel() takes 3 positional arguments but 4 were given\n",
      "structureLabel() takes 3 positional arguments but 4 were given\n",
      "structureLabel() takes 3 positional arguments but 4 were given\n",
      "structureLabel() takes 3 positional arguments but 4 were given\n",
      "structureLabel() takes 3 positional arguments but 4 were given\n",
      "structureLabel() takes 3 positional arguments but 4 were given\n",
      "structureLabel() takes 3 positional arguments but 4 were given\n",
      "structureLabel() takes 3 positional arguments but 4 were given\n",
      "structureLabel() takes 3 positional arguments but 4 were given\n",
      "structureLabel() takes 3 positional arguments but 4 were given\n",
      "structureLabel() takes 3 positional arguments but 4 were given\n",
      "structureLabel() takes 3 positional arguments but 4 were given\n",
      "structureLabel() takes 3 positional arguments but 4 were given\n",
      "structureLabel() takes 3 positional arguments but 4 were given\n",
      "structureLabel() takes 3 positional arguments but 4 were given\n",
      "structureLabel() takes 3 positional arguments but 4 were given\n",
      "structureLabel() takes 3 positional arguments but 4 were given\n",
      "structureLabel() takes 3 positional arguments but 4 were given\n",
      "structureLabel() takes 3 positional arguments but 4 were given\n",
      "structureLabel() takes 3 positional arguments but 4 were given\n",
      "structureLabel() takes 3 positional arguments but 4 were given\n",
      "structureLabel() takes 3 positional arguments but 4 were given\n",
      "structureLabel() takes 3 positional arguments but 4 were given\n",
      "structureLabel() takes 3 positional arguments but 4 were given\n",
      "structureLabel() takes 3 positional arguments but 4 were given\n",
      "structureLabel() takes 3 positional arguments but 4 were given\n",
      "structureLabel() takes 3 positional arguments but 4 were given\n",
      "structureLabel() takes 3 positional arguments but 4 were given\n",
      "structureLabel() takes 3 positional arguments but 4 were given\n"
     ]
    },
    {
     "name": "stderr",
     "output_type": "stream",
     "text": [
      "ITEM: R_05_584| ID: 540:  79%|███████▉  | 507/641 [00:13<00:06, 19.40it/s]"
     ]
    },
    {
     "name": "stdout",
     "output_type": "stream",
     "text": [
      "structureLabel() takes 3 positional arguments but 4 were given\n",
      "structureLabel() takes 3 positional arguments but 4 were given\n",
      "structureLabel() takes 3 positional arguments but 4 were given\n"
     ]
    },
    {
     "name": "stderr",
     "output_type": "stream",
     "text": [
      "ITEM: R_06_585| ID: 544:  80%|███████▉  | 511/641 [00:14<00:13,  9.66it/s]"
     ]
    },
    {
     "name": "stdout",
     "output_type": "stream",
     "text": [
      "structureLabel() takes 3 positional arguments but 4 were given\n",
      "structureLabel() takes 3 positional arguments but 4 were given\n",
      "structureLabel() takes 3 positional arguments but 4 were given\n",
      "structureLabel() takes 3 positional arguments but 4 were given\n",
      "structureLabel() takes 3 positional arguments but 4 were given\n",
      "structureLabel() takes 3 positional arguments but 4 were given\n",
      "structureLabel() takes 3 positional arguments but 4 were given\n",
      "structureLabel() takes 3 positional arguments but 4 were given\n",
      "structureLabel() takes 3 positional arguments but 4 were given\n",
      "structureLabel() takes 3 positional arguments but 4 were given\n",
      "structureLabel() takes 3 positional arguments but 4 were given\n",
      "structureLabel() takes 3 positional arguments but 4 were given\n",
      "structureLabel() takes 3 positional arguments but 4 were given\n",
      "structureLabel() takes 3 positional arguments but 4 were given\n",
      "structureLabel() takes 3 positional arguments but 4 were given\n",
      "structureLabel() takes 3 positional arguments but 4 were given\n",
      "structureLabel() takes 3 positional arguments but 4 were given\n",
      "structureLabel() takes 3 positional arguments but 4 were given\n",
      "structureLabel() takes 3 positional arguments but 4 were given\n",
      "structureLabel() takes 3 positional arguments but 4 were given\n",
      "structureLabel() takes 3 positional arguments but 4 were given\n",
      "structureLabel() takes 3 positional arguments but 4 were given\n",
      "structureLabel() takes 3 positional arguments but 4 were given\n",
      "structureLabel() takes 3 positional arguments but 4 were given\n",
      "structureLabel() takes 3 positional arguments but 4 were given\n",
      "structureLabel() takes 3 positional arguments but 4 were given\n",
      "structureLabel() takes 3 positional arguments but 4 were given\n",
      "structureLabel() takes 3 positional arguments but 4 were given\n",
      "structureLabel() takes 3 positional arguments but 4 were given\n",
      "structureLabel() takes 3 positional arguments but 4 were given\n",
      "structureLabel() takes 3 positional arguments but 4 were given\n",
      "structureLabel() takes 3 positional arguments but 4 were given\n",
      "structureLabel() takes 3 positional arguments but 4 were given\n",
      "structureLabel() takes 3 positional arguments but 4 were given\n",
      "structureLabel() takes 3 positional arguments but 4 were given\n",
      "structureLabel() takes 3 positional arguments but 4 were given\n",
      "structureLabel() takes 3 positional arguments but 4 were given\n",
      "structureLabel() takes 3 positional arguments but 4 were given\n",
      "structureLabel() takes 3 positional arguments but 4 were given\n",
      "structureLabel() takes 3 positional arguments but 4 were given\n",
      "structureLabel() takes 3 positional arguments but 4 were given\n",
      "structureLabel() takes 3 positional arguments but 4 were given\n",
      "structureLabel() takes 3 positional arguments but 4 were given\n",
      "structureLabel() takes 3 positional arguments but 4 were given\n",
      "structureLabel() takes 3 positional arguments but 4 were given\n",
      "structureLabel() takes 3 positional arguments but 4 were given\n",
      "structureLabel() takes 3 positional arguments but 4 were given\n",
      "structureLabel() takes 3 positional arguments but 4 were given\n",
      "structureLabel() takes 3 positional arguments but 4 were given\n",
      "structureLabel() takes 3 positional arguments but 4 were given\n",
      "structureLabel() takes 3 positional arguments but 4 were given\n",
      "structureLabel() takes 3 positional arguments but 4 were given\n",
      "structureLabel() takes 3 positional arguments but 4 were given\n",
      "structureLabel() takes 3 positional arguments but 4 were given\n",
      "structureLabel() takes 3 positional arguments but 4 were given\n",
      "structureLabel() takes 3 positional arguments but 4 were given\n",
      "structureLabel() takes 3 positional arguments but 4 were given\n",
      "structureLabel() takes 3 positional arguments but 4 were given\n",
      "structureLabel() takes 3 positional arguments but 4 were given\n",
      "structureLabel() takes 3 positional arguments but 4 were given\n",
      "structureLabel() takes 3 positional arguments but 4 were given\n",
      "structureLabel() takes 3 positional arguments but 4 were given\n",
      "structureLabel() takes 3 positional arguments but 4 were given\n",
      "structureLabel() takes 3 positional arguments but 4 were given\n",
      "structureLabel() takes 3 positional arguments but 4 were given\n",
      "structureLabel() takes 3 positional arguments but 4 were given\n",
      "structureLabel() takes 3 positional arguments but 4 were given\n",
      "structureLabel() takes 3 positional arguments but 4 were given\n",
      "structureLabel() takes 3 positional arguments but 4 were given\n",
      "structureLabel() takes 3 positional arguments but 4 were given\n",
      "structureLabel() takes 3 positional arguments but 4 were given\n",
      "structureLabel() takes 3 positional arguments but 4 were given\n",
      "structureLabel() takes 3 positional arguments but 4 were given\n",
      "structureLabel() takes 3 positional arguments but 4 were given\n",
      "structureLabel() takes 3 positional arguments but 4 were given\n"
     ]
    },
    {
     "name": "stderr",
     "output_type": "stream",
     "text": [
      "ITEM: R_03_579| ID: 620:  92%|█████████▏| 587/641 [00:15<00:04, 13.15it/s]"
     ]
    },
    {
     "name": "stdout",
     "output_type": "stream",
     "text": [
      "structureLabel() takes 3 positional arguments but 4 were given\n",
      "structureLabel() takes 3 positional arguments but 4 were given\n",
      "structureLabel() takes 3 positional arguments but 4 were given\n",
      "structureLabel() takes 3 positional arguments but 4 were given\n",
      "structureLabel() takes 3 positional arguments but 4 were given\n",
      "structureLabel() takes 3 positional arguments but 4 were given\n",
      "structureLabel() takes 3 positional arguments but 4 were given\n",
      "structureLabel() takes 3 positional arguments but 4 were given\n",
      "structureLabel() takes 3 positional arguments but 4 were given\n",
      "structureLabel() takes 3 positional arguments but 4 were given\n",
      "structureLabel() takes 3 positional arguments but 4 were given\n",
      "structureLabel() takes 3 positional arguments but 4 were given\n",
      "structureLabel() takes 3 positional arguments but 4 were given\n",
      "structureLabel() takes 3 positional arguments but 4 were given\n",
      "structureLabel() takes 3 positional arguments but 4 were given\n",
      "structureLabel() takes 3 positional arguments but 4 were given\n",
      "structureLabel() takes 3 positional arguments but 4 were given\n",
      "structureLabel() takes 3 positional arguments but 4 were given\n",
      "structureLabel() takes 3 positional arguments but 4 were given\n",
      "structureLabel() takes 3 positional arguments but 4 were given\n",
      "structureLabel() takes 3 positional arguments but 4 were given\n"
     ]
    },
    {
     "name": "stderr",
     "output_type": "stream",
     "text": [
      "ITEM: R_02_578| ID: 642:  95%|█████████▌| 609/641 [00:16<00:02, 15.26it/s]"
     ]
    },
    {
     "name": "stdout",
     "output_type": "stream",
     "text": [
      "structureLabel() takes 3 positional arguments but 4 were given\n",
      "structureLabel() takes 3 positional arguments but 4 were given\n"
     ]
    },
    {
     "name": "stderr",
     "output_type": "stream",
     "text": [
      "ITEM: R_01_577| ID: 645: 100%|██████████| 641/641 [00:17<00:00, 37.36it/s]"
     ]
    },
    {
     "name": "stdout",
     "output_type": "stream",
     "text": [
      "structureLabel() takes 3 positional arguments but 4 were given\n",
      "structureLabel() takes 3 positional arguments but 4 were given\n",
      "structureLabel() takes 3 positional arguments but 4 were given\n",
      "structureLabel() takes 3 positional arguments but 4 were given\n",
      "structureLabel() takes 3 positional arguments but 4 were given\n",
      "structureLabel() takes 3 positional arguments but 4 were given\n",
      "structureLabel() takes 3 positional arguments but 4 were given\n",
      "structureLabel() takes 3 positional arguments but 4 were given\n",
      "structureLabel() takes 3 positional arguments but 4 were given\n",
      "structureLabel() takes 3 positional arguments but 4 were given\n",
      "structureLabel() takes 3 positional arguments but 4 were given\n",
      "structureLabel() takes 3 positional arguments but 4 were given\n",
      "structureLabel() takes 3 positional arguments but 4 were given\n",
      "structureLabel() takes 3 positional arguments but 4 were given\n",
      "structureLabel() takes 3 positional arguments but 4 were given\n",
      "structureLabel() takes 3 positional arguments but 4 were given\n",
      "structureLabel() takes 3 positional arguments but 4 were given\n",
      "structureLabel() takes 3 positional arguments but 4 were given\n",
      "structureLabel() takes 3 positional arguments but 4 were given\n",
      "structureLabel() takes 3 positional arguments but 4 were given\n",
      "structureLabel() takes 3 positional arguments but 4 were given\n",
      "structureLabel() takes 3 positional arguments but 4 were given\n",
      "structureLabel() takes 3 positional arguments but 4 were given\n",
      "structureLabel() takes 3 positional arguments but 4 were given\n",
      "structureLabel() takes 3 positional arguments but 4 were given\n",
      "structureLabel() takes 3 positional arguments but 4 were given\n",
      "structureLabel() takes 3 positional arguments but 4 were given\n",
      "structureLabel() takes 3 positional arguments but 4 were given\n",
      "structureLabel() takes 3 positional arguments but 4 were given\n"
     ]
    },
    {
     "name": "stderr",
     "output_type": "stream",
     "text": [
      "\n"
     ]
    }
   ],
   "source": [
    "url = endpoint + 'items?page=all'\n",
    "\n",
    "print(url)\n",
    "response = json.loads(urllib.request.urlopen(url).read().decode('utf-8'))\n",
    "\n",
    "pbar = tqdm(range(len(response)), desc='description')\n",
    "\n",
    "for i in pbar:\n",
    "    try:\n",
    "        identifier = response[i]['dcterms:identifier'][0]['@value']\n",
    "        resourceId = response[i]['o:id']\n",
    "\n",
    "        if identifier in dictionary.keys():\n",
    "            \n",
    "            # --------- dcterms:identifier --------- #\n",
    "            dcidentifier = structureField('dcterms:identifier', 10, identifier)\n",
    "   \n",
    "            # --------- dcterms:extent --------- #\n",
    "            \n",
    "            dictionaryID = 'dcterms:extent'\n",
    "            propertyID = 25\n",
    "            dcextent =  { dictionaryID: [] }\n",
    "            \n",
    "            paintingSize = dictionary[identifier]['Objekt_Gemälde Maße max. (H x B x T in cm)'][0].split('x')\n",
    "            frameSize = dictionary[identifier]['Objekt_Gemälde Maße max. (H x B x T in cm)'][0].split('x')\n",
    "\n",
    "            try:\n",
    "                paintingHeight = 'Canvas height ' + paintingSize[0] + ' cm'\n",
    "                elem = structureLabel('literal', propertyID, paintingHeight)\n",
    "                dcextent[dictionaryID].append(elem)\n",
    "            except:\n",
    "                pass\n",
    "\n",
    "            try:\n",
    "                paintingWidth =  'Canvas width ' + paintingSize[1] + ' cm'\n",
    "                elem = structureLabel('literal', propertyID, paintingWidth)\n",
    "                dcextent[dictionaryID].append(elem)\n",
    "            except:\n",
    "                pass\n",
    "\n",
    "            try:\n",
    "                paintingDepth =  'Canvas depth ' + paintingSize[2] + ' cm'\n",
    "                elem = structureLabel('literal', propertyID, paintingDepth)\n",
    "                dcextent[dictionaryID].append(elem)\n",
    "\n",
    "            except:\n",
    "                pass\n",
    "\n",
    "            try:\n",
    "                frameHeight = 'Frame height ' + frameSize[0] + ' cm'\n",
    "                elem = structureLabel('literal', propertyID, frameHeight)\n",
    "                dcextent[dictionaryID].append(elem)\n",
    "            except:\n",
    "                pass\n",
    "\n",
    "            try:\n",
    "                frameWidth =  'Frame width ' + frameSize[1] + ' cm'\n",
    "                elem = structureLabel('literal', propertyID, frameWidth)\n",
    "                dcextent[dictionaryID].append(elem)\n",
    "            except:\n",
    "                pass\n",
    "\n",
    "            try:\n",
    "                frameDepth =  'Frame depth ' + frameSize[2] + ' cm'\n",
    "                elem = structureLabel('literal', propertyID, frameDepth)\n",
    "                dcextent[dictionaryID].append(elem)\n",
    "\n",
    "            except:\n",
    "                pass\n",
    "          \n",
    "            # --------- dcterms:format --------- #\n",
    "            \n",
    "            dictionaryID = 'dcterms:format'\n",
    "            propertyID = 9\n",
    "            \n",
    "            dcformat =  { dictionaryID: [] }\n",
    "            \n",
    "            paintingMaterial = dictionary[identifier]['Objekt_Gemälde Material'][0].split(';')\n",
    "            \n",
    "            for material in paintingMaterial:\n",
    "                if(material != \"\"):\n",
    "                    elem = structureLabel('literal', propertyID, material, 'de')\n",
    "                    dcformat[dictionaryID].append(elem)\n",
    "                    \n",
    "            # --------- dcterms:format --------- #\n",
    "            \n",
    "        \n",
    "            # Merge all jsons previously defined\n",
    "            patch = {**dcidentifier, **dcextent, **dcformat }\n",
    "            \n",
    "            \n",
    "            # Merge with the response json\n",
    "            response[i].update(patch)\n",
    "            postRequest = json.dumps(response[i])\n",
    "            \n",
    "        \n",
    "            putUrl = endpoint + 'items/' +  str(resourceId)\n",
    "            headers = {\"Content-Type\": \"application/json\"}\n",
    "            r = requests.patch(putUrl, data=postRequest, params = params, headers=headers)\n",
    "            \n",
    "            time.sleep(.25)\n",
    "            pbar.set_description(\"ITEM: \" + str(identifier) +  \"| ID: \"+  str(resourceId))\n",
    "    except Exception as e:\n",
    "        print(e)"
   ]
  },
  {
   "cell_type": "markdown",
   "metadata": {},
   "source": [
    "### Upload Image"
   ]
  },
  {
   "cell_type": "code",
   "execution_count": 37,
   "metadata": {},
   "outputs": [],
   "source": [
    "item = 674 # The number according to the omeka s resource"
   ]
  },
  {
   "cell_type": "code",
   "execution_count": null,
   "metadata": {},
   "outputs": [],
   "source": [
    "image = 'test.png'\n",
    "imageType = 'png'"
   ]
  },
  {
   "cell_type": "code",
   "execution_count": null,
   "metadata": {},
   "outputs": [],
   "source": [
    "data = {\n",
    "    \"o:ingester\": \"upload\", \n",
    "    \"file_index\": \"0\", \n",
    "    \"o:item\": {\"o:id\": item }\n",
    "}\n",
    "\n",
    "files = [\n",
    "     ('data', (None, json.dumps(data), 'application/json')),\n",
    "     ('file[0]', (image, open(image, 'rb'), 'image/' + imageType))\n",
    "]\n",
    "\n",
    "response = requests.post(endpoint + '/media', params=params, files=files)"
   ]
  }
 ],
 "metadata": {
  "kernelspec": {
   "display_name": "Python 3",
   "language": "python",
   "name": "python3"
  },
  "language_info": {
   "codemirror_mode": {
    "name": "ipython",
    "version": 3
   },
   "file_extension": ".py",
   "mimetype": "text/x-python",
   "name": "python",
   "nbconvert_exporter": "python",
   "pygments_lexer": "ipython3",
   "version": "3.8.5"
  }
 },
 "nbformat": 4,
 "nbformat_minor": 4
}
