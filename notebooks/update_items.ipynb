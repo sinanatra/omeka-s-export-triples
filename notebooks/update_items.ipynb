{
 "cells": [
  {
   "cell_type": "markdown",
   "metadata": {},
   "source": [
    "# Update Items"
   ]
  },
  {
   "cell_type": "markdown",
   "metadata": {},
   "source": [
    "### Import Libraries"
   ]
  },
  {
   "cell_type": "code",
   "execution_count": 1,
   "metadata": {},
   "outputs": [],
   "source": [
    "import glob\n",
    "import os\n",
    "import json\n",
    "import xml.etree.ElementTree as ET\n",
    "import requests\n",
    "from urllib import parse\n",
    "import argparse\n",
    "import urllib.request\n",
    "import configparser\n",
    "from tqdm import tqdm\n",
    "import time"
   ]
  },
  {
   "cell_type": "markdown",
   "metadata": {},
   "source": [
    "### Get configuration file"
   ]
  },
  {
   "cell_type": "code",
   "execution_count": 2,
   "metadata": {},
   "outputs": [],
   "source": [
    "config = configparser.ConfigParser()\n",
    "config.sections()\n",
    "config.read('../config/api.ini')\n",
    "client_id = config.get('main', 'client_id')\n",
    "client_secret = config.get('main', 'client_secret')\n",
    "endpoint = config.get('main', 'endpoint')"
   ]
  },
  {
   "cell_type": "markdown",
   "metadata": {},
   "source": [
    "### Connect to the Api"
   ]
  },
  {
   "cell_type": "code",
   "execution_count": 3,
   "metadata": {},
   "outputs": [
    {
     "name": "stdout",
     "output_type": "stream",
     "text": [
      "Connected to:     http://localhost:8080/api/\n"
     ]
    }
   ],
   "source": [
    "params = {\n",
    "    'key_identity': client_id,\n",
    "    'key_credential': client_secret\n",
    "}\n",
    "\n",
    "access_url = endpoint\n",
    "print(\"Connected to:    \", access_url)"
   ]
  },
  {
   "cell_type": "markdown",
   "metadata": {},
   "source": [
    "### Navigate the xml and converts it to json"
   ]
  },
  {
   "cell_type": "code",
   "execution_count": 4,
   "metadata": {},
   "outputs": [],
   "source": [
    "dictionary = {}\n",
    "fileName = ''\n",
    "\n",
    "for file in glob.glob(\"../input/*\"):\n",
    "    root = ET.parse(file).getroot()\n",
    "    fileName = str(os.path.basename(file))\n",
    "    \n",
    "    for group in root.findall('family/group'):\n",
    "        groupName = group.attrib['name']\n",
    "        item = group.findall('item')\n",
    "        \n",
    "        for value in item:\n",
    "            fieldName = value.attrib['name']         \n",
    "            matchingName = groupName +\"_\"+ fieldName\n",
    "            fieldValue = value.text\n",
    "            \n",
    "            #fix getty links \n",
    "            if \"getty\" in str(fieldValue) and 'subjectid=' in str(fieldValue) and '[' in str(fieldValue) and '[' in str(fieldValue):\n",
    "                name  = fieldValue.split('[')[0].split(']')[0]\n",
    "                url  = fieldValue.split('[')[1].split(']')[0]\n",
    "\n",
    "                if  'subjectid=' in str(url):\n",
    "                    url  = url.split('subjectid=')[1]\n",
    "                    fieldValue = name + \"; http://vocab.getty.edu/page/tgn/\" +  url            \n",
    "\n",
    "            cleanedText = str(fieldValue).replace(\"None\", \"\").replace(\"\\n\", \"\").replace(\"\\t\", \" \").replace('\"', '').replace(\"'\", \"\")\n",
    "            \n",
    "            # Creating/appending to a JSON structure\n",
    "            if fileName not in dictionary:\n",
    "                dictionary[fileName] = { matchingName :  [cleanedText] }\n",
    "            else:\n",
    "                if matchingName not in dictionary[fileName]:\n",
    "                    dictionary[fileName][matchingName] = [cleanedText]\n",
    "                else:\n",
    "                    dictionary[fileName][matchingName].append(cleanedText)"
   ]
  },
  {
   "cell_type": "markdown",
   "metadata": {},
   "source": [
    "#### Structure a JSON-LD item"
   ]
  },
  {
   "cell_type": "code",
   "execution_count": 7,
   "metadata": {},
   "outputs": [],
   "source": [
    "def structureField(dict_type, property_id, value, lang='', public=True):\n",
    "    if lang:\n",
    "        return {dict_type:[ { \"type\": \"literal\", \"property_id\": property_id, \"@value\": value, \"@language\": lang, 'is_public': public } ]}\n",
    "    else:\n",
    "        return {dict_type:[ { \"type\": \"literal\", \"property_id\": property_id, \"@value\": value, 'is_public': public } ]}\n",
    "\n",
    "def structureLabel(dict_type, property_id, value, lang='', public=True):\n",
    "    if lang:\n",
    "        return {\"type\": dict_type, \"property_id\": property_id, \"@value\": value, \"@language\": lang, 'is_public': public}\n",
    "    else:\n",
    "        return {\"type\": dict_type, \"property_id\": property_id, \"@value\": value, 'is_public': public}\n",
    "    \n",
    "def metadata(dictionaryID, labels, lang=''):\n",
    "    objectEntry =  { dictionaryID: [] }\n",
    "\n",
    "    # i am checking the length of the first element - double check if secondary fields have more entries\n",
    "    firstKey = list(labels.keys())[0]\n",
    "    firstItem = labels[firstKey][1]\n",
    "    additionalItems = labels[firstKey][2:]\n",
    "    \n",
    "    mainField = dictionary[identifier][firstItem]\n",
    "\n",
    "    for i in range(len(mainField)): \n",
    "        \n",
    "        for key in labels:\n",
    "            if(key != \"\"):\n",
    "                \n",
    "                value = dictionary[identifier][labels[key][1]][i]\n",
    "                \n",
    "                # Parse multiple parameters in one item\n",
    "                if (additionalItems != \"\"):\n",
    "                    for additionalkey in labels[firstKey][2:]:\n",
    "                        value += \";\" + dictionary[identifier][additionalkey][i]   \n",
    "                                    \n",
    "                elem = structureLabel(key, labels[key][0], value, lang)\n",
    "                objectEntry[dictionaryID].append(elem)\n",
    "\n",
    "    return objectEntry"
   ]
  },
  {
   "cell_type": "markdown",
   "metadata": {},
   "source": [
    "### Import multiple items"
   ]
  },
  {
   "cell_type": "code",
   "execution_count": 10,
   "metadata": {},
   "outputs": [
    {
     "name": "stdout",
     "output_type": "stream",
     "text": [
      "http://localhost:8080/api/items?page=all\n"
     ]
    },
    {
     "name": "stderr",
     "output_type": "stream",
     "text": [
      "ITEM: G_017_093| ID: 1327: 100%|██████████| 641/641 [10:14<00:00,  1.04it/s]  \n"
     ]
    }
   ],
   "source": [
    "url = endpoint + 'items?page=all'\n",
    "\n",
    "print(url)\n",
    "response = json.loads(urllib.request.urlopen(url).read().decode('utf-8'))\n",
    "\n",
    "pbar = tqdm(range(len(response)), desc='description')\n",
    "\n",
    "for i in pbar:\n",
    "    try:\n",
    "        if response[i]['crm:P1_is_identified_by'][0]['@value']:\n",
    "            identifier = response[i]['crm:P1_is_identified_by'][0]['@value']\n",
    "        else:\n",
    "            identifier = response[i]['o:title'][0]['@value']\n",
    "        resourceId = response[i]['o:id']\n",
    "        \n",
    "        if identifier in dictionary.keys():\n",
    "            \n",
    "            # --------- crm:P1 --------- #\n",
    "                        \n",
    "            dictionaryID = 'crm:P1_is_identified_by'\n",
    "            propertyLabel = 'nesteddatatype#crm:E42_Identifier'\n",
    "            propertyID = 1899\n",
    "            \n",
    "            cidocIdentifier =  { dictionaryID: [] }\n",
    "                        \n",
    "            properties = [\n",
    "                {'label' : 'P190 has symbolic content', 'value' : identifier},\n",
    "            ]\n",
    "            \n",
    "            cidocIdentifier[dictionaryID].append(structureLabel('literal', propertyID, identifier, public=False))            \n",
    "            cidocIdentifier[dictionaryID].append(structureLabel(propertyLabel, propertyID, properties))\n",
    "            \n",
    "            # --------- crm:P43 --------- #\n",
    "\n",
    "            dictionaryID = 'crm:P43_has_dimension'\n",
    "            propertyLabel = 'nesteddatatype#crm:E54_Dimension'\n",
    "            propertyID = 1853\n",
    "            \n",
    "            cidocDimension =  { dictionaryID: [] }\n",
    "            \n",
    "            paintingSize = dictionary[identifier]['Objekt_Gemälde Maße max. (H x B x T in cm)'][0].replace(',','.').split('x')\n",
    "            frameSize = dictionary[identifier]['Objekt_Gemälde Maße max. (H x B x T in cm)'][0].replace(',','.').split('x')\n",
    "            \n",
    "            try:\n",
    "                properties = [\n",
    "                    {'label' : 'P2 has type', 'value' : 'Canvas height'},\n",
    "                    {'label' : 'P90 has value', 'value' : paintingSize[0]},\n",
    "                    {'label' : 'P91 has unit', 'value' : 'centimeters'}\n",
    "                ]\n",
    "                elem = structureLabel(propertyLabel, propertyID, properties)                \n",
    "                cidocDimension[dictionaryID].append(elem)\n",
    "            except:\n",
    "                pass\n",
    "\n",
    "            try:\n",
    "                properties = [\n",
    "                    {'label' : 'P2 has type', 'value' : 'Canvas width'},\n",
    "                    {'label' : 'P90 has value', 'value' : paintingSize[1]},\n",
    "                    {'label' : 'P91 has unit', 'value' : 'centimeters'}\n",
    "                ]\n",
    "                elem = structureLabel(propertyLabel, propertyID, properties)                \n",
    "                cidocDimension[dictionaryID].append(elem)\n",
    "            except:\n",
    "                pass\n",
    "\n",
    "            try:\n",
    "                properties = [\n",
    "                    {'label' : 'P2 has type', 'value' : 'Canvas depth'},\n",
    "                    {'label' : 'P90 has value', 'value' : paintingSize[2]},\n",
    "                    {'label' : 'P91 has unit', 'value' : 'centimeters'}\n",
    "                ]\n",
    "                elem = structureLabel(propertyLabel, propertyID, properties)\n",
    "                cidocDimension[dictionaryID].append(elem)\n",
    "            except:\n",
    "                pass\n",
    "\n",
    "            try:\n",
    "                properties = [\n",
    "                    {'label' : 'P2 has type', 'value' : 'Frame height'},\n",
    "                    {'label' : 'P90 has value', 'value' : frameSize[0]},\n",
    "                    {'label' : 'P91 has unit', 'value' : 'centimeters'}\n",
    "                ]\n",
    "                elem = structureLabel(propertyLabel, propertyID, properties)\n",
    "                cidocDimension[dictionaryID].append(elem)\n",
    "            except:\n",
    "                pass\n",
    "\n",
    "            try:\n",
    "                properties = [\n",
    "                    {'label' : 'P2 has type', 'value' : 'Frame width'},\n",
    "                    {'label' : 'P90 has value', 'value' : frameSize[1]},\n",
    "                    {'label' : 'P91 has unit', 'value' : 'centimeters'}\n",
    "                ]\n",
    "                elem = structureLabel(propertyLabel, propertyID, properties)\n",
    "                cidocDimension[dictionaryID].append(elem)\n",
    "            except:\n",
    "                pass\n",
    "\n",
    "            try:\n",
    "                properties = [\n",
    "                    {'label' : 'P2 has type', 'value' : 'Frame depth'},\n",
    "                    {'label' : 'P90 has value', 'value' : frameSize[2]},\n",
    "                    {'label' : 'P91 has unit', 'value' : 'centimeters'}\n",
    "                ]\n",
    "                elem = structureLabel(propertyLabel, propertyID, (properties))\n",
    "                cidocDimension[dictionaryID].append(elem)\n",
    "            except:\n",
    "                pass\n",
    "          \n",
    "            # --------- crm:P45 --------- #\n",
    "            \n",
    "            dictionaryID = 'crm:P45_consists_of'\n",
    "            propertyID = 1782\n",
    "            cidocformat =  { dictionaryID: [] }\n",
    "            \n",
    "            # The original entries are splitted by a semicolon here ?!\n",
    "            # check if it can be merged with the metadata() func\n",
    "            \n",
    "            paintingMaterial = dictionary[identifier]['Objekt_Gemälde Material'][0].split(';')\n",
    "            \n",
    "            for material in paintingMaterial:\n",
    "                if(material != \"\"):\n",
    "                    elem = structureLabel('literal', propertyID, material, 'de')\n",
    "                    cidocformat[dictionaryID].append(elem)\n",
    "                    \n",
    "            # --------- crm:P102_has_title --------- #\n",
    "            \n",
    "            title = dictionary[identifier]['Objekttitel_Objekttitel'][0]\n",
    "            cidoctitle = structureField('crm:P102_has_title', 1897, title, 'de')\n",
    "                   \n",
    "            # --------------------------- #\n",
    "        \n",
    "            resourceClass = {\"o:resource_class\": {\"o:id\": 592}}\n",
    "   \n",
    "            # Merge all jsons previously defined\n",
    "            patch = {**resourceClass, **cidocIdentifier, **cidocDimension, **cidocformat, \n",
    "                     **cidoctitle}            \n",
    "\n",
    "            # Merge with the response json\n",
    "            response[i].update(patch)\n",
    "           \n",
    "            # If it is needed to delete items, do it before dumping the json            \n",
    "            #del response[i]['dcterms:alternative'] \n",
    "\n",
    "            postRequest = json.dumps(response[i])\n",
    "            \n",
    "            putUrl = endpoint + 'items/' +  str(resourceId)\n",
    "            headers = {\"Content-Type\": \"application/json\"}\n",
    "            r = requests.patch(putUrl, data=postRequest, params = params, headers=headers)\n",
    "            \n",
    "            time.sleep(.25)\n",
    "            pbar.set_description(\"ITEM: \" + str(identifier) +  \"| ID: \"+  str(resourceId))\n",
    "            \n",
    "    except Exception as e:\n",
    "        print(e)"
   ]
  },
  {
   "cell_type": "code",
   "execution_count": null,
   "metadata": {},
   "outputs": [],
   "source": [
    "# --------- pina:signature  --------- #\n",
    "\n",
    "dictionaryID = 'pina:signature'\n",
    "\n",
    "labels = {\n",
    "     'literal': [1181, 'Signatur_Name' , 'Signatur_Datum', 'Signatur_Anmerkung'],\n",
    "     #'pinadatatypes:name':[1156,'Signatur_Name',],\n",
    "     #'pinadatatypes:date':[1156,'Signatur_Datum',],\n",
    "     #'pinadatatypes:note': [1156,'Signatur_Anmerkung'],\n",
    "} \n",
    "\n",
    "pinaSignature = metadata(dictionaryID, labels, 'de') "
   ]
  }
 ],
 "metadata": {
  "kernelspec": {
   "display_name": "Python 3",
   "language": "python",
   "name": "python3"
  },
  "language_info": {
   "codemirror_mode": {
    "name": "ipython",
    "version": 3
   },
   "file_extension": ".py",
   "mimetype": "text/x-python",
   "name": "python",
   "nbconvert_exporter": "python",
   "pygments_lexer": "ipython3",
   "version": "3.8.5"
  }
 },
 "nbformat": 4,
 "nbformat_minor": 4
}
