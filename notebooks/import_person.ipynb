{
 "cells": [
  {
   "cell_type": "markdown",
   "metadata": {},
   "source": [
    "# Update Items"
   ]
  },
  {
   "cell_type": "markdown",
   "metadata": {},
   "source": [
    "### Import Libraries"
   ]
  },
  {
   "cell_type": "code",
   "execution_count": 325,
   "metadata": {},
   "outputs": [],
   "source": [
    "import glob\n",
    "import os\n",
    "import json\n",
    "import xml.etree.ElementTree as ET\n",
    "import requests\n",
    "from urllib import parse\n",
    "import urllib.request\n",
    "import configparser\n",
    "from tqdm import tqdm\n",
    "import time\n",
    "import tqdm\n",
    "import re\n",
    "from unidecode import unidecode"
   ]
  },
  {
   "cell_type": "markdown",
   "metadata": {},
   "source": [
    "### Get configuration file"
   ]
  },
  {
   "cell_type": "code",
   "execution_count": 2,
   "metadata": {},
   "outputs": [],
   "source": [
    "config = configparser.ConfigParser()\n",
    "config.sections()\n",
    "config.read('../config/api.ini')\n",
    "client_id = config.get('main', 'client_id')\n",
    "client_secret = config.get('main', 'client_secret')\n",
    "endpoint = config.get('main', 'endpoint')"
   ]
  },
  {
   "cell_type": "markdown",
   "metadata": {},
   "source": [
    "### Connect to the Api"
   ]
  },
  {
   "cell_type": "code",
   "execution_count": 3,
   "metadata": {},
   "outputs": [
    {
     "name": "stdout",
     "output_type": "stream",
     "text": [
      "Connected to:     http://localhost:8080/api/\n"
     ]
    }
   ],
   "source": [
    "params = {\n",
    "    'key_identity': client_id,\n",
    "    'key_credential': client_secret\n",
    "}\n",
    "\n",
    "access_url = endpoint\n",
    "print(\"Connected to:    \", access_url)"
   ]
  },
  {
   "cell_type": "markdown",
   "metadata": {},
   "source": [
    "### Navigate the xml and converts it to json"
   ]
  },
  {
   "cell_type": "code",
   "execution_count": 388,
   "metadata": {},
   "outputs": [],
   "source": [
    "dictionary = {}\n",
    "\n",
    "for file in glob.glob(\"../input/*\"):\n",
    "    root = ET.parse(file).getroot()\n",
    "    fileName = str(os.path.basename(file))\n",
    "    \n",
    "    for group in root.findall('family/group'):\n",
    "        groupName = group.attrib['name']\n",
    "        item = group.findall('item')\n",
    "        \n",
    "        for value in item:\n",
    "            fieldName = value.attrib['name']         \n",
    "            matchingName = groupName +\"_\"+ fieldName\n",
    "            fieldValue = value.text\n",
    "            \n",
    "            #fix getty links \n",
    "            if \"getty\" in str(fieldValue) and 'subjectid=' in str(fieldValue) and '[' in str(fieldValue) and '[' in str(fieldValue):\n",
    "                name  = fieldValue.split('[')[0].split(']')[0]\n",
    "                url  = fieldValue.split('[')[1].split(']')[0]\n",
    "\n",
    "                if  'subjectid=' in str(url):\n",
    "                    url  = url.split('subjectid=')[1]\n",
    "                    fieldValue = name + \"; http://vocab.getty.edu/page/tgn/\" +  url            \n",
    "\n",
    "            cleanedText = str(fieldValue).replace(\"None\", \"\").replace(\"\\n\", \"\").replace(\"\\t\", \" \").replace('\"', '').replace(\"'\", \"\")\n",
    "            \n",
    "            # Creating/appending to a JSON structure\n",
    "            if fileName not in dictionary:\n",
    "                dictionary[fileName] = { matchingName :  [cleanedText] }\n",
    "            else:\n",
    "                if matchingName not in dictionary[fileName]:\n",
    "                    dictionary[fileName][matchingName] = [cleanedText]\n",
    "                else:\n",
    "                    dictionary[fileName][matchingName].append(cleanedText)"
   ]
  },
  {
   "cell_type": "code",
   "execution_count": 7,
   "metadata": {
    "collapsed": true,
    "jupyter": {
     "outputs_hidden": true
    }
   },
   "outputs": [
    {
     "name": "stdout",
     "output_type": "stream",
     "text": [
      "dict_keys(['Objekt_Sammlungsobjekt-ID', 'Objekt_Primärabbildung', 'Objekt_Archivalien', 'Objekt_Gemälde Maße max. (H x B x T in cm)', 'Objekt_Gemälde Material', 'Objekt_Rahmen Maße max. (H x B x T in cm)', 'Objekt_Rahmen Material', 'Objekt_Format', 'Kurzbefund_Gemälde', 'Kurzbefund_Schmuckrahmen', 'Gemälde_Konservierungsbedarf', 'Gemälde_Restaurierungsbedarf', 'Gemälde_Anmerkung', 'Gemälde_Sicherungsbeklebung', 'Gemälde_Andere Sicherungsmaßnahmen', 'Gemälde_Sicherungsbedarf: anbringen, verbessern, ergänzen', 'Schmuckrahmen_Konservierungsbedarf', 'Schmuckrahmen_Restaurierungsbedarf', 'Schmuckrahmen_Anmerkung', 'Schmuckrahmen_Sicherungsbeklebung', 'Schmuckrahmen_Andere Sicherungsmaßnahmen', 'Schmuckrahmen_Sicherungsbedarf: anbringen, verbessern, ergänzen', 'Einrahmung_Dringender Verbesserungsbedarf', 'Einrahmung_Anmerkung', 'Rückseite_Rückseite', 'Lagerung_Art der Lagerung', 'Lagerung_Anmerkung', 'Lagerung_Verbesserungsbedarf', 'Halber Reinigungszustand_Zustand', 'Halber Reinigungszustand_Anmerkung', 'Etikettspuren unten links_vorhanden', 'Etikettspuren unten links_Anmerkung', 'historische Maßnahmen/Eingriffe_Was?', 'Dokumentation der Bewegungen_Datum', 'Dokumentation der Bewegungen_Anlass', 'Dokumentation der Bewegungen_Zielort', 'Dokumentation der Bewegungen_Name', 'Dokumentation der vor-Ort-Maßnahmen_Datum', 'Dokumentation der vor-Ort-Maßnahmen_Maßnahme', 'Dokumentation der vor-Ort-Maßnahmen_Name', 'Bezeichnung_Art', 'Bezeichnung_Transkription', 'Bezeichnung_Anbringungsort', 'Bezeichnung_Typen', 'Bezeichnung_Anmerkung', 'Bezeichnung_Foto', 'Inventarnummer am Objekt_Inventarnummer', 'Inventarnummer am Objekt_Herleitung', 'Inventarnummer_Inventarnummer', 'Inventarnummer_Herleitung', 'Frühere Inventarnummer_Inventarnummer', 'Frühere Inventarnummer_Herleitung', 'Eigentümer_Institution', 'Eigentümer_Art', 'Eigentümer_Ort', 'Eigentümer_Abteilung', 'Eigentümer_Sammlung', 'Eigentümer_Sammlungsbereich', 'Eigentümer_Zugangsart', 'Eigentümer_Zugangsdatum', 'Eigentümer_Herleitung', 'Standort_Institution', 'Standort_Art', 'Standort_Ort', 'Standort_Abteilung', 'Standort_Funktion', 'Standort_Verwaltungsart', 'Standort_Standort', 'Standort_Standort spezifisch', 'Standort_Museumsleitung', 'Standort_Kustos/Kurator', 'Standort_Depotleitung', 'Standort_Zugangsart', 'Standort_Zugangsdatum', 'Standort_Zugang Herleitung', 'Provenienz/Erwerb_Person/Institution', 'Provenienz/Erwerb_Ort', 'Provenienz/Erwerb_Bis', 'Provenienz/Erwerb_Zugangsart', 'Provenienz/Erwerb_Zugangsdatum', 'Provenienz/Erwerb_Herleitung', 'Historische Revision_Anlass', 'Historische Revision_Datum', 'Historische Revision_Durchführender', 'Historische Revision_Herleitung', 'Deakzession/Aussonderung_Datum', 'Deakzession/Aussonderung_Grund', 'Deakzession/Aussonderung_Empfänger', 'Deakzession/Aussonderung_Anmerkung', 'Deakzession/Aussonderung_Herleitung', 'Signatur_Datum', 'Signatur_Name', 'Signatur_Anmerkung', 'Objekttitel_Objekttitel', 'Alternative Objektbezeichnung_Alternative Objektbezeichnung', 'Alternative Objektbezeichnung_Herleitung', 'Herstellungsort_Herstellungsort oder -gebiet', 'Herstellungsort_Herleitung', 'Herstellungsort_Anmerkung', 'Datierung_Datierung', 'Datierung_Herleitung', 'Datierung_Anmerkung', 'Datierung_Datum', 'Künstler_Künstlername', 'Künstler_Herleitung', 'frühere Zuschreibung_Künstlername', 'frühere Zuschreibung_Datum', 'frühere Zuschreibung_Herleitung', 'Auftraggeber_Personenname', 'Auftraggeber_Datierung', 'Auftraggeber_Herleitung', 'Auftraggeber_Anmerkung', 'Gattung und Genre_Gattung', 'Gattung und Genre_Genre', 'Gattung und Genre_Funktion', 'Gattung und Genre_Zahl der dargestellten Personen, Geschlecht', 'Gattung und Genre_Bildausschnitt (nur bei Einzelbildnissen)', 'Gattung und Genre_Ansicht (nur bei Einzelbildnissen)', 'Heraldik_Anbringungsort', 'Heraldik_Transkription', 'Heraldik_Beschreibung', 'Heraldik_Zuschreibung', 'Heraldik_Herleitung', 'Beschreibung und Interpretation_Kunstgeschichte (Notationssystem)', 'Beschreibung und Interpretation_Modegeschichte (Notationssystem)', 'Beschreibung und Interpretation_Kunsthistorische Beschreibung I', 'Beschreibung und Interpretation_Kunsthistorische Beschreibung II', 'Beschreibung und Interpretation_Modehistorische Beschreibung I', 'Beschreibung und Interpretation_Modehistorische Beschreibung II', 'Beschreibung und Interpretation_Resumé', 'Orden und Ehrenzeichen_Orden und Ehrenzeichen', 'Dargestellte Person_Dargestellte Person', 'Assoziierter Ort_Ort', 'Assoziierter Ort_Herleitung', 'Assoziiertes Datum_Datum', 'Assoziiertes Datum_Herleitung', 'Assoziiertes Ereignis_Ereignis', 'Assoziiertes Ereignis_Herleitung', 'Objektbeziehung innerhalb der Slg_Art der Beziehung', 'Objektbeziehung innerhalb der Slg_Objekt', 'Objektbeziehung innerhalb der Slg_Herleitung', 'Objektbeziehung innerhalb der Slg_Anmerkung', 'Objektbeziehung außerhalb der Slg_Art der Beziehung', 'Objektbeziehung außerhalb der Slg_Objekt', 'Objektbeziehung außerhalb der Slg_Herleitung', 'Objektbeziehung außerhalb der Slg_Anmerkung', 'Werteermittlung_Wert', 'Werteermittlung_Währung', 'Werteermittlung_Datum', 'Werteermittlung_Typ', 'Werteermittlung_Anmerkung', 'Werteermittlung_Herleitung', 'Ausstellung_Titel', 'Ausstellung_Datum Beginn', 'Ausstellung_Datum Ende', 'Ausstellung_Ort', 'Ausstellung_Institution', 'Ausstellung_Literatur', 'Literatur_Publikation', 'Externe Forschung_Name', 'Externe Forschung_Adresse', 'Externe Forschung_Beruf', 'Externe Forschung_Institution Name', 'Externe Forschung_Institution Adresse', 'Externe Forschung_Datum', 'Externe Forschung_Forschungsbeitrag', 'Externe Forschung_Ergebnis', 'Rechte_Forschung und Nutzung des Objektes', 'Rechte_Datum', 'Rechte_Person oder Institution', 'Rechte_Ansprechpartner', 'Rechte_Lokalisierung', 'Rechte_Lizenz: Art', 'Rechte_Lizenz: erworben am', 'Rechte_Lizenz: Ende', 'Untersuchungsbedarf_Mikroskopie', 'Untersuchungsbedarf_Radiographie', 'Untersuchungsbedarf_RFA', 'Untersuchungsbedarf_IR', 'Untersuchungsbedarf_Ramanspektroskopie', 'Untersuchungsbedarf_VIS-Spektrometrie', 'Untersuchungsbedarf_ESEM', 'Untersuchungsbedarf_Chromatographische Untersuchungen', 'Untersuchungsbedarf_Bemerkungen'])\n"
     ]
    }
   ],
   "source": [
    "print(dictionary['M_186_555'].keys())"
   ]
  },
  {
   "cell_type": "markdown",
   "metadata": {},
   "source": [
    "### Import People"
   ]
  },
  {
   "cell_type": "code",
   "execution_count": 11,
   "metadata": {},
   "outputs": [],
   "source": [
    "omekaTemplate =  { \"o:resource_template\": {\"o:id\": 6}}\n",
    "omekaClass = {\"o:resource_class\": {\"o:id\": 546}}"
   ]
  },
  {
   "cell_type": "markdown",
   "metadata": {},
   "source": [
    "### Define a function to import different categories each time "
   ]
  },
  {
   "cell_type": "code",
   "execution_count": 385,
   "metadata": {},
   "outputs": [],
   "source": [
    "def importCategory(category, propertyLabel, propertyId):\n",
    "\n",
    "    for i in tqdm.tqdm(dictionary.keys()): \n",
    "        for cat in  dictionary[i][category]:\n",
    "            if cat:\n",
    "                # Preparing entries\n",
    "                if '[' and ']' in cat:        \n",
    "                    try:\n",
    "                        link = re.search(\"(?P<url>http?://[^\\s]+)\", cat).group(\"url\").replace(']','')\n",
    "                        cat = cat.split('[')[0]                \n",
    "                        identifier = { propertyLabel: [ { \"type\": \"uri\", \"property_id\": propertyId, \"@id\": link, 'o:label': cat } ]}\n",
    "                    except:\n",
    "                        continue\n",
    "                else: \n",
    "                    identifier = { propertyLabel: [ { \"type\": \"literal\", \"property_id\": propertyId, \"@value\": cat } ]}\n",
    "\n",
    "                # Check if it is already in database  \n",
    "                url = access_url + 'items?property[0][property]='+str(propertyId)+'&property[0][type]=in&property[0][text]=' + urllib.parse.quote(cat)\n",
    "                urlResponse = json.loads(urllib.request.urlopen(url).read().decode('utf-8'))\n",
    "\n",
    "                if not urlResponse:\n",
    "                    print('Inserting: ', cat )\n",
    "                    postFields = json.dumps({ **omekaClass, **omekaTemplate, **identifier})\n",
    "\n",
    "                    # Post Request\n",
    "                    url = access_url + 'items/'\n",
    "                    headers = {\"Content-Type\": \"application/json\"}\n",
    "                    r = requests.post(url, data=postFields, params = params, headers=headers)\n",
    "                    time.sleep(.25)\n"
   ]
  },
  {
   "cell_type": "markdown",
   "metadata": {},
   "source": [
    "### Import Artist"
   ]
  },
  {
   "cell_type": "code",
   "execution_count": 387,
   "metadata": {
    "collapsed": true,
    "jupyter": {
     "outputs_hidden": true
    }
   },
   "outputs": [
    {
     "name": "stderr",
     "output_type": "stream",
     "text": [
      " 14%|█▎        | 87/641 [00:19<02:06,  4.38it/s]"
     ]
    },
    {
     "name": "stdout",
     "output_type": "stream",
     "text": [
      "Inserting:  Christian Friedrich Fues (?)\n"
     ]
    },
    {
     "name": "stderr",
     "output_type": "stream",
     "text": [
      " 30%|██▉       | 191/641 [00:42<01:15,  5.94it/s]"
     ]
    },
    {
     "name": "stdout",
     "output_type": "stream",
     "text": [
      "Inserting:  Hetsch, Philipp Friedrich \n"
     ]
    },
    {
     "name": "stderr",
     "output_type": "stream",
     "text": [
      " 30%|███       | 194/641 [00:44<02:37,  2.84it/s]"
     ]
    },
    {
     "name": "stdout",
     "output_type": "stream",
     "text": [
      "Inserting:  Neufchatel, Nicolas \n"
     ]
    },
    {
     "name": "stderr",
     "output_type": "stream",
     "text": [
      " 30%|███       | 195/641 [00:45<04:15,  1.75it/s]"
     ]
    },
    {
     "name": "stdout",
     "output_type": "stream",
     "text": [
      "Inserting:  Defregger, Franz von (1835 - 1921) \n"
     ]
    },
    {
     "name": "stderr",
     "output_type": "stream",
     "text": [
      " 31%|███▏      | 201/641 [00:48<02:20,  3.13it/s]"
     ]
    },
    {
     "name": "stdout",
     "output_type": "stream",
     "text": [
      "Inserting:  Rolandi (?)\n"
     ]
    },
    {
     "name": "stderr",
     "output_type": "stream",
     "text": [
      " 32%|███▏      | 204/641 [00:49<02:54,  2.51it/s]"
     ]
    },
    {
     "name": "stdout",
     "output_type": "stream",
     "text": [
      "Inserting:  Monogrammist MH (?)\n"
     ]
    },
    {
     "name": "stderr",
     "output_type": "stream",
     "text": [
      " 36%|███▌      | 230/641 [00:56<01:33,  4.39it/s]"
     ]
    },
    {
     "name": "stdout",
     "output_type": "stream",
     "text": [
      "Inserting:  Cornelis Jonson van Ceulen \n"
     ]
    },
    {
     "name": "stderr",
     "output_type": "stream",
     "text": [
      " 36%|███▌      | 232/641 [00:57<02:52,  2.37it/s]"
     ]
    },
    {
     "name": "stdout",
     "output_type": "stream",
     "text": [
      "Inserting:  Monogrammist A D (?)\n"
     ]
    },
    {
     "name": "stderr",
     "output_type": "stream",
     "text": [
      " 37%|███▋      | 240/641 [01:00<01:44,  3.85it/s]"
     ]
    },
    {
     "name": "stdout",
     "output_type": "stream",
     "text": [
      "Inserting:  Johann Georg Delhser (?)\n"
     ]
    },
    {
     "name": "stderr",
     "output_type": "stream",
     "text": [
      " 40%|████      | 258/641 [01:05<01:28,  4.35it/s]"
     ]
    },
    {
     "name": "stdout",
     "output_type": "stream",
     "text": [
      "Inserting:  Le Brun, Charles \n"
     ]
    },
    {
     "name": "stderr",
     "output_type": "stream",
     "text": [
      " 40%|████      | 259/641 [01:06<03:04,  2.07it/s]"
     ]
    },
    {
     "name": "stdout",
     "output_type": "stream",
     "text": [
      "Inserting:  Meister von Alkmaar (1490 - 1510 Wirkungsdaten) \n"
     ]
    },
    {
     "name": "stderr",
     "output_type": "stream",
     "text": [
      " 47%|████▋     | 299/641 [01:16<01:18,  4.34it/s]"
     ]
    },
    {
     "name": "stdout",
     "output_type": "stream",
     "text": [
      "Inserting:  Johann Christian Sperling \n"
     ]
    },
    {
     "name": "stderr",
     "output_type": "stream",
     "text": [
      " 47%|████▋     | 300/641 [01:17<02:45,  2.06it/s]"
     ]
    },
    {
     "name": "stdout",
     "output_type": "stream",
     "text": [
      "Inserting:  Lander, D. (?)\n"
     ]
    },
    {
     "name": "stderr",
     "output_type": "stream",
     "text": [
      " 47%|████▋     | 302/641 [01:19<03:08,  1.80it/s]"
     ]
    },
    {
     "name": "stdout",
     "output_type": "stream",
     "text": [
      "Inserting:  Monogrammist PM (?)\n"
     ]
    },
    {
     "name": "stderr",
     "output_type": "stream",
     "text": [
      " 49%|████▉     | 316/641 [01:22<01:08,  4.71it/s]"
     ]
    },
    {
     "name": "stdout",
     "output_type": "stream",
     "text": [
      "Inserting:  Ziesenis, Johann Georg (Kopie nach) \n"
     ]
    },
    {
     "name": "stderr",
     "output_type": "stream",
     "text": [
      " 53%|█████▎    | 342/641 [01:29<01:08,  4.38it/s]"
     ]
    },
    {
     "name": "stdout",
     "output_type": "stream",
     "text": [
      "Inserting:  Monogrammist SL (?)\n"
     ]
    },
    {
     "name": "stderr",
     "output_type": "stream",
     "text": [
      " 55%|█████▌    | 355/641 [01:33<01:06,  4.32it/s]"
     ]
    },
    {
     "name": "stdout",
     "output_type": "stream",
     "text": [
      "Inserting:  Volpi, Giovanni Battista (?)\n"
     ]
    },
    {
     "name": "stderr",
     "output_type": "stream",
     "text": [
      " 56%|█████▌    | 356/641 [01:34<02:18,  2.06it/s]"
     ]
    },
    {
     "name": "stdout",
     "output_type": "stream",
     "text": [
      "Inserting:  Anonym (Monogrammist PU ?)\n"
     ]
    },
    {
     "name": "stderr",
     "output_type": "stream",
     "text": [
      " 56%|█████▋    | 362/641 [01:37<01:26,  3.23it/s]"
     ]
    },
    {
     "name": "stdout",
     "output_type": "stream",
     "text": [
      "Inserting:  Martin van Meytens der Jüngere \n"
     ]
    },
    {
     "name": "stderr",
     "output_type": "stream",
     "text": [
      " 59%|█████▊    | 375/641 [01:41<01:03,  4.22it/s]"
     ]
    },
    {
     "name": "stdout",
     "output_type": "stream",
     "text": [
      "Inserting:  Juan Bautista Martínez del Mazo \n"
     ]
    },
    {
     "name": "stderr",
     "output_type": "stream",
     "text": [
      " 59%|█████▊    | 376/641 [01:42<02:09,  2.05it/s]"
     ]
    },
    {
     "name": "stdout",
     "output_type": "stream",
     "text": [
      "Inserting:  Anonym (Umfeld von Martin van Meytens ?)\n"
     ]
    },
    {
     "name": "stderr",
     "output_type": "stream",
     "text": [
      " 59%|█████▉    | 379/641 [01:43<02:01,  2.15it/s]"
     ]
    },
    {
     "name": "stdout",
     "output_type": "stream",
     "text": [
      "Inserting:  Wolfgang Ludwig Hopfer (1648 - 1698) \n"
     ]
    },
    {
     "name": "stderr",
     "output_type": "stream",
     "text": [
      " 60%|█████▉    | 382/641 [01:45<01:56,  2.23it/s]"
     ]
    },
    {
     "name": "stdout",
     "output_type": "stream",
     "text": [
      "Inserting:  Anonym (Monogrammist LS?)\n"
     ]
    },
    {
     "name": "stderr",
     "output_type": "stream",
     "text": [
      " 60%|██████    | 387/641 [01:47<01:25,  2.98it/s]"
     ]
    },
    {
     "name": "stdout",
     "output_type": "stream",
     "text": [
      "Inserting:  Moritz Kellerhoven \n"
     ]
    },
    {
     "name": "stderr",
     "output_type": "stream",
     "text": [
      " 61%|██████    | 388/641 [01:48<02:21,  1.79it/s]"
     ]
    },
    {
     "name": "stdout",
     "output_type": "stream",
     "text": [
      "Inserting:  Brentel, Friedrich (1580 - 1651) \n"
     ]
    },
    {
     "name": "stderr",
     "output_type": "stream",
     "text": [
      " 62%|██████▏   | 396/641 [01:51<01:08,  3.59it/s]"
     ]
    },
    {
     "name": "stdout",
     "output_type": "stream",
     "text": [
      "Inserting:  Berginan (?)\n"
     ]
    },
    {
     "name": "stderr",
     "output_type": "stream",
     "text": [
      " 65%|██████▍   | 416/641 [01:56<00:52,  4.28it/s]"
     ]
    },
    {
     "name": "stdout",
     "output_type": "stream",
     "text": [
      "Inserting:  Janeck, J.C.\n"
     ]
    },
    {
     "name": "stderr",
     "output_type": "stream",
     "text": [
      " 67%|██████▋   | 432/641 [02:01<00:50,  4.16it/s]"
     ]
    },
    {
     "name": "stdout",
     "output_type": "stream",
     "text": [
      "Inserting:  Favray, Antoine de (1706 - 1791) \n"
     ]
    },
    {
     "name": "stderr",
     "output_type": "stream",
     "text": [
      " 68%|██████▊   | 436/641 [02:03<01:07,  3.06it/s]"
     ]
    },
    {
     "name": "stdout",
     "output_type": "stream",
     "text": [
      "Inserting:  Scorrano, Luigi (1849 - 1924) ; http://vocab.getty.edu/page/tgn/500091520\n"
     ]
    },
    {
     "name": "stderr",
     "output_type": "stream",
     "text": [
      " 69%|██████▉   | 444/641 [02:05<00:47,  4.17it/s]"
     ]
    },
    {
     "name": "stdout",
     "output_type": "stream",
     "text": [
      "Inserting:  William Strang\n"
     ]
    },
    {
     "name": "stderr",
     "output_type": "stream",
     "text": [
      " 69%|██████▉   | 445/641 [02:06<01:36,  2.02it/s]"
     ]
    },
    {
     "name": "stdout",
     "output_type": "stream",
     "text": [
      "Inserting:  Franz Ignaz Oefele (1721-1797) \n"
     ]
    },
    {
     "name": "stderr",
     "output_type": "stream",
     "text": [
      " 70%|██████▉   | 448/641 [02:08<01:26,  2.24it/s]"
     ]
    },
    {
     "name": "stdout",
     "output_type": "stream",
     "text": [
      "Inserting:  Marten van Heemskerck \n"
     ]
    },
    {
     "name": "stderr",
     "output_type": "stream",
     "text": [
      " 73%|███████▎  | 468/641 [02:13<00:40,  4.28it/s]"
     ]
    },
    {
     "name": "stdout",
     "output_type": "stream",
     "text": [
      "Inserting:  Beckman (?)\n"
     ]
    },
    {
     "name": "stderr",
     "output_type": "stream",
     "text": [
      " 74%|███████▍  | 473/641 [02:15<00:50,  3.32it/s]"
     ]
    },
    {
     "name": "stdout",
     "output_type": "stream",
     "text": [
      "Inserting:  Pallaert, Anthoine (?)\n"
     ]
    },
    {
     "name": "stderr",
     "output_type": "stream",
     "text": [
      " 74%|███████▍  | 475/641 [02:17<01:01,  2.68it/s]"
     ]
    },
    {
     "name": "stdout",
     "output_type": "stream",
     "text": [
      "Inserting:  Rotari, Pietro Antonio \n"
     ]
    },
    {
     "name": "stderr",
     "output_type": "stream",
     "text": [
      " 76%|███████▌  | 485/641 [02:20<00:41,  3.79it/s]"
     ]
    },
    {
     "name": "stdout",
     "output_type": "stream",
     "text": [
      "Inserting:  Anonym (nach Jean Huber)\n"
     ]
    },
    {
     "name": "stderr",
     "output_type": "stream",
     "text": [
      " 77%|███████▋  | 493/641 [02:23<00:38,  3.85it/s]"
     ]
    },
    {
     "name": "stdout",
     "output_type": "stream",
     "text": [
      "Inserting:  Posch, Leonhard\n"
     ]
    },
    {
     "name": "stderr",
     "output_type": "stream",
     "text": [
      " 78%|███████▊  | 498/641 [02:25<00:43,  3.28it/s]"
     ]
    },
    {
     "name": "stdout",
     "output_type": "stream",
     "text": [
      "Inserting:  Johann Jonas Michael (1736 - 1763) ; http://vocab.getty.edu/page/tgn/500010026\n"
     ]
    },
    {
     "name": "stderr",
     "output_type": "stream",
     "text": [
      " 78%|███████▊  | 500/641 [02:26<01:04,  2.19it/s]"
     ]
    },
    {
     "name": "stdout",
     "output_type": "stream",
     "text": [
      "Inserting:  Wolf Huber \n"
     ]
    },
    {
     "name": "stderr",
     "output_type": "stream",
     "text": [
      " 79%|███████▉  | 509/641 [02:29<00:32,  4.02it/s]"
     ]
    },
    {
     "name": "stdout",
     "output_type": "stream",
     "text": [
      "Inserting:  Johann Baptist Lampi der d. Ä. (Umfeld von)\n"
     ]
    },
    {
     "name": "stderr",
     "output_type": "stream",
     "text": [
      " 80%|███████▉  | 510/641 [02:30<01:06,  1.97it/s]"
     ]
    },
    {
     "name": "stdout",
     "output_type": "stream",
     "text": [
      "Inserting:  Giovanni Bernardo Carbone \n"
     ]
    },
    {
     "name": "stderr",
     "output_type": "stream",
     "text": [
      " 80%|████████  | 514/641 [02:32<00:48,  2.59it/s]"
     ]
    },
    {
     "name": "stdout",
     "output_type": "stream",
     "text": [
      "Inserting:  Monogrammist AC\n"
     ]
    },
    {
     "name": "stderr",
     "output_type": "stream",
     "text": [
      " 82%|████████▏ | 524/641 [02:35<00:30,  3.81it/s]"
     ]
    },
    {
     "name": "stdout",
     "output_type": "stream",
     "text": [
      "Inserting:  Philipp Friedrich Hetsch \n"
     ]
    },
    {
     "name": "stderr",
     "output_type": "stream",
     "text": [
      " 82%|████████▏ | 528/641 [02:37<00:39,  2.84it/s]"
     ]
    },
    {
     "name": "stdout",
     "output_type": "stream",
     "text": [
      "Inserting:  Monogrammist CM\n"
     ]
    },
    {
     "name": "stderr",
     "output_type": "stream",
     "text": [
      " 85%|████████▍ | 544/641 [02:41<00:22,  4.25it/s]"
     ]
    },
    {
     "name": "stdout",
     "output_type": "stream",
     "text": [
      "Inserting:  HB (?)\n"
     ]
    },
    {
     "name": "stderr",
     "output_type": "stream",
     "text": [
      " 88%|████████▊ | 565/641 [02:47<00:17,  4.27it/s]"
     ]
    },
    {
     "name": "stdout",
     "output_type": "stream",
     "text": [
      "Inserting:  Joos van Cleve (Kopie nach)\n"
     ]
    },
    {
     "name": "stderr",
     "output_type": "stream",
     "text": [
      " 89%|████████▉ | 572/641 [02:49<00:17,  4.05it/s]"
     ]
    },
    {
     "name": "stdout",
     "output_type": "stream",
     "text": [
      "Inserting:  Doepler, Emil (1855-1922) \n"
     ]
    },
    {
     "name": "stderr",
     "output_type": "stream",
     "text": [
      " 92%|█████████▏| 588/641 [02:54<00:10,  4.95it/s]"
     ]
    },
    {
     "name": "stdout",
     "output_type": "stream",
     "text": [
      "Inserting:  Anonym (nach Velásquez)\n"
     ]
    },
    {
     "name": "stderr",
     "output_type": "stream",
     "text": [
      " 94%|█████████▍| 604/641 [02:59<00:08,  4.19it/s]"
     ]
    },
    {
     "name": "stdout",
     "output_type": "stream",
     "text": [
      "Inserting:  Anton Schwendt\n"
     ]
    },
    {
     "name": "stderr",
     "output_type": "stream",
     "text": [
      " 97%|█████████▋| 620/641 [03:03<00:05,  4.05it/s]"
     ]
    },
    {
     "name": "stdout",
     "output_type": "stream",
     "text": [
      "Inserting:  Monogrammist LH (?)\n"
     ]
    },
    {
     "name": "stderr",
     "output_type": "stream",
     "text": [
      " 98%|█████████▊| 631/641 [03:06<00:02,  3.77it/s]"
     ]
    },
    {
     "name": "stdout",
     "output_type": "stream",
     "text": [
      "Inserting:  Anthonie Palamedesz (1601-1673) \n"
     ]
    },
    {
     "name": "stderr",
     "output_type": "stream",
     "text": [
      "100%|██████████| 641/641 [03:10<00:00,  3.37it/s]\n"
     ]
    }
   ],
   "source": [
    "importCategory('Künstler_Künstlername', 'crm:P1_is_identified_by', 1899)"
   ]
  },
  {
   "cell_type": "markdown",
   "metadata": {},
   "source": [
    "### Import Depicted People"
   ]
  },
  {
   "cell_type": "code",
   "execution_count": 386,
   "metadata": {
    "collapsed": true,
    "jupyter": {
     "outputs_hidden": true
    }
   },
   "outputs": [
    {
     "name": "stderr",
     "output_type": "stream",
     "text": [
      "  7%|▋         | 47/641 [00:02<00:51, 11.46it/s]"
     ]
    },
    {
     "name": "stdout",
     "output_type": "stream",
     "text": [
      "Inserting:  Gonzaga, Cecilia (1425 - 1451) \n"
     ]
    },
    {
     "name": "stderr",
     "output_type": "stream",
     "text": [
      "  9%|▊         | 56/641 [00:03<01:24,  6.90it/s]"
     ]
    },
    {
     "name": "stdout",
     "output_type": "stream",
     "text": [
      "Inserting:  Thanner, Gottfridt (Gottfridt Thanner ist in den zeitgenössischen Quellen der Reichsstadt Augsburg nicht nachzuweisen)\n"
     ]
    },
    {
     "name": "stderr",
     "output_type": "stream",
     "text": [
      " 16%|█▌        | 102/641 [00:07<00:31, 16.96it/s]"
     ]
    },
    {
     "name": "stdout",
     "output_type": "stream",
     "text": [
      "Inserting:  Sophia Hedwig, Herzogin von Pommern-Wolgast \n"
     ]
    },
    {
     "name": "stderr",
     "output_type": "stream",
     "text": [
      " 18%|█▊        | 113/641 [00:08<01:11,  7.43it/s]"
     ]
    },
    {
     "name": "stdout",
     "output_type": "stream",
     "text": [
      "Inserting:  Anna Magdalena von Hohenlohe-Langenburg (1617 - 1670)\n",
      "Inserting:  Maria Juiana von Hohenlohe-Langenburg (1623 - 1695)\n",
      "Inserting:  Joachim Albrecht von Hohenlohe-Langenburg (1619 - 1675)\n"
     ]
    },
    {
     "name": "stderr",
     "output_type": "stream",
     "text": [
      " 42%|████▏     | 271/641 [00:19<00:33, 10.98it/s]"
     ]
    },
    {
     "name": "stdout",
     "output_type": "stream",
     "text": [
      "Inserting:  Maria Walburga Josepha, Gräfin von Thun und Hohenstein (01.09.1743 - 18.02.1795) (?)\n"
     ]
    },
    {
     "name": "stderr",
     "output_type": "stream",
     "text": [
      " 74%|███████▍  | 477/641 [00:31<00:06, 24.12it/s]"
     ]
    },
    {
     "name": "stdout",
     "output_type": "stream",
     "text": [
      "Inserting:  Katharina von Alexandria \n"
     ]
    },
    {
     "name": "stderr",
     "output_type": "stream",
     "text": [
      " 92%|█████████▏| 589/641 [00:38<00:03, 13.83it/s]"
     ]
    },
    {
     "name": "stdout",
     "output_type": "stream",
     "text": [
      "Inserting:  Ferdinand III, Großherzog der Toskana \n"
     ]
    },
    {
     "name": "stderr",
     "output_type": "stream",
     "text": [
      " 92%|█████████▏| 591/641 [00:39<00:10,  4.70it/s]"
     ]
    },
    {
     "name": "stdout",
     "output_type": "stream",
     "text": [
      "Inserting:  Dorothea, Tochter des Grafen von Portia (?)\n"
     ]
    },
    {
     "name": "stderr",
     "output_type": "stream",
     "text": [
      " 93%|█████████▎| 595/641 [00:40<00:10,  4.27it/s]"
     ]
    },
    {
     "name": "stdout",
     "output_type": "stream",
     "text": [
      "Inserting:  Erhard, Heiliger (680-717) \n",
      "Inserting:  Bonifatius, Sanctus (675 - 754) \n"
     ]
    },
    {
     "name": "stderr",
     "output_type": "stream",
     "text": [
      " 93%|█████████▎| 599/641 [00:42<00:14,  2.99it/s]"
     ]
    },
    {
     "name": "stdout",
     "output_type": "stream",
     "text": [
      "Inserting:  Stöberin, Catharina Helena\n"
     ]
    },
    {
     "name": "stderr",
     "output_type": "stream",
     "text": [
      " 94%|█████████▍| 602/641 [00:43<00:13,  2.87it/s]"
     ]
    },
    {
     "name": "stdout",
     "output_type": "stream",
     "text": [
      "Inserting:  Ferdinando Guido, Graf von Porcia im Friaul\n"
     ]
    },
    {
     "name": "stderr",
     "output_type": "stream",
     "text": [
      " 94%|█████████▍| 604/641 [00:44<00:15,  2.42it/s]"
     ]
    },
    {
     "name": "stdout",
     "output_type": "stream",
     "text": [
      "Inserting:  Maria Anna, Kaiserin von Österreich (1803 - 1884) \n"
     ]
    },
    {
     "name": "stderr",
     "output_type": "stream",
     "text": [
      " 94%|█████████▍| 605/641 [00:46<00:22,  1.59it/s]"
     ]
    },
    {
     "name": "stdout",
     "output_type": "stream",
     "text": [
      "Inserting:  Katharina, Königin von Zypern (Caterina Cornero) \n"
     ]
    },
    {
     "name": "stderr",
     "output_type": "stream",
     "text": [
      " 95%|█████████▍| 606/641 [00:47<00:27,  1.28it/s]"
     ]
    },
    {
     "name": "stdout",
     "output_type": "stream",
     "text": [
      "Inserting:  Piccolomini, Marbet (?)\n"
     ]
    },
    {
     "name": "stderr",
     "output_type": "stream",
     "text": [
      "100%|██████████| 641/641 [00:48<00:00, 13.19it/s]\n"
     ]
    }
   ],
   "source": [
    "importCategory('Dargestellte Person_Dargestellte Person', 'crm:P1_is_identified_by', 1899)"
   ]
  }
 ],
 "metadata": {
  "kernelspec": {
   "display_name": "Python 3",
   "language": "python",
   "name": "python3"
  },
  "language_info": {
   "codemirror_mode": {
    "name": "ipython",
    "version": 3
   },
   "file_extension": ".py",
   "mimetype": "text/x-python",
   "name": "python",
   "nbconvert_exporter": "python",
   "pygments_lexer": "ipython3",
   "version": "3.8.5"
  }
 },
 "nbformat": 4,
 "nbformat_minor": 4
}
