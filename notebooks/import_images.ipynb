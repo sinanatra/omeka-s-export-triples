{
 "cells": [
  {
   "cell_type": "markdown",
   "metadata": {},
   "source": [
    "# Update Items"
   ]
  },
  {
   "cell_type": "markdown",
   "metadata": {},
   "source": [
    "### Import Libraries"
   ]
  },
  {
   "cell_type": "code",
   "execution_count": null,
   "metadata": {},
   "outputs": [],
   "source": [
    "import glob\n",
    "import os\n",
    "import json\n",
    "import xml.etree.ElementTree as ET\n",
    "import requests\n",
    "from urllib import parse\n",
    "import argparse\n",
    "import urllib.request\n",
    "import configparser\n",
    "from tqdm import tqdm\n",
    "import time"
   ]
  },
  {
   "cell_type": "markdown",
   "metadata": {},
   "source": [
    "### Get configuration file"
   ]
  },
  {
   "cell_type": "code",
   "execution_count": 548,
   "metadata": {},
   "outputs": [],
   "source": [
    "config = configparser.ConfigParser()\n",
    "config.sections()\n",
    "config.read('../config/api.ini')\n",
    "client_id = config.get('main', 'client_id')\n",
    "client_secret = config.get('main', 'client_secret')\n",
    "endpoint = config.get('main', 'endpoint')"
   ]
  },
  {
   "cell_type": "markdown",
   "metadata": {},
   "source": [
    "### Connect to the Api"
   ]
  },
  {
   "cell_type": "code",
   "execution_count": 549,
   "metadata": {},
   "outputs": [
    {
     "name": "stdout",
     "output_type": "stream",
     "text": [
      "Connected to:     http://localhost:8080/api/\n"
     ]
    }
   ],
   "source": [
    "params = {\n",
    "    'key_identity': client_id,\n",
    "    'key_credential': client_secret\n",
    "}\n",
    "\n",
    "access_url = endpoint\n",
    "print(\"Connected to:    \", access_url)"
   ]
  },
  {
   "cell_type": "markdown",
   "metadata": {},
   "source": [
    "### Upload Images"
   ]
  },
  {
   "cell_type": "code",
   "execution_count": 622,
   "metadata": {},
   "outputs": [
    {
     "name": "stdout",
     "output_type": "stream",
     "text": [
      "http://localhost:8080/api/items?page=all\n"
     ]
    },
    {
     "name": "stderr",
     "output_type": "stream",
     "text": [
      "description:   0%|          | 0/641 [00:05<?, ?it/s]\n"
     ]
    }
   ],
   "source": [
    "import glob\n",
    "url = endpoint + 'items?page=all'\n",
    "\n",
    "print(url)\n",
    "response = json.loads(urllib.request.urlopen(url).read().decode('utf-8'))\n",
    "\n",
    "pbar = tqdm(range(len(response)), desc='description')\n",
    "\n",
    "for i in pbar:\n",
    "    try:\n",
    "        if response[i]['crm:P1_is_identified_by'][0]['@value']:\n",
    "            identifier = response[i]['crm:P1_is_identified_by'][0]['@value']\n",
    "        else:\n",
    "            identifier = response[i]['o:title'][0]['@value']\n",
    "\n",
    "        resourceId = response[i]['o:id']\n",
    "        images = [f for f in glob.glob(\"../media/mid/*.jpg\") if identifier in f]\n",
    "        \n",
    "        for pos, image in enumerate(images):\n",
    "            \n",
    "            data = {\n",
    "                \"o:ingester\": \"upload\", \n",
    "                \"file_index\": pos, \n",
    "                \"o:item\": {\"o:id\": resourceId }\n",
    "            }\n",
    "\n",
    "            files = [\n",
    "                 (\"data\", (None, json.dumps(data), \"application/json\")),\n",
    "                 (\"file[\"+str(pos)+\"]\", (image, open(image, \"rb\"), \"image/jpg\"))\n",
    "            ]   \n",
    "            \n",
    "            post = requests.post(endpoint + 'media', params=params, files=files)\n",
    "\n",
    "            time.sleep(.25)\n",
    "            \n",
    "        break\n",
    "            \n",
    "    except Exception as e:\n",
    "        print(e)\n",
    "            \n",
    "            "
   ]
  },
  {
   "cell_type": "code",
   "execution_count": 584,
   "metadata": {},
   "outputs": [],
   "source": [
    "item = 687 # The number according to the omeka s resource"
   ]
  },
  {
   "cell_type": "code",
   "execution_count": 585,
   "metadata": {},
   "outputs": [],
   "source": [
    "image = 'A_D0238D3_M_186_555_KarteiKopieWeiss.jpg'\n",
    "imageType = 'jpg'"
   ]
  },
  {
   "cell_type": "code",
   "execution_count": 586,
   "metadata": {},
   "outputs": [],
   "source": [
    "data = {\n",
    "    \"o:ingester\": \"upload\", \n",
    "    \"file_index\": \"0\", \n",
    "    \"o:item\": {\"o:id\": item }\n",
    "}\n",
    "\n",
    "files = [\n",
    "     ('data', (None, json.dumps(data), 'application/json')),\n",
    "     ('file[0]', (image, open(image, 'rb'), 'image/' + imageType))\n",
    "]\n",
    "\n",
    "response = requests.post(endpoint + '/media', params=params, files=files)\n",
    "\n"
   ]
  }
 ],
 "metadata": {
  "kernelspec": {
   "display_name": "Python 3",
   "language": "python",
   "name": "python3"
  },
  "language_info": {
   "codemirror_mode": {
    "name": "ipython",
    "version": 3
   },
   "file_extension": ".py",
   "mimetype": "text/x-python",
   "name": "python",
   "nbconvert_exporter": "python",
   "pygments_lexer": "ipython3",
   "version": "3.8.5"
  }
 },
 "nbformat": 4,
 "nbformat_minor": 4
}
