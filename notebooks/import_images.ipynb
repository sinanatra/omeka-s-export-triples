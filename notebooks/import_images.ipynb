{
 "cells": [
  {
   "cell_type": "markdown",
   "metadata": {},
   "source": [
    "# Update Items"
   ]
  },
  {
   "cell_type": "markdown",
   "metadata": {},
   "source": [
    "### Import Libraries"
   ]
  },
  {
   "cell_type": "code",
   "execution_count": 1,
   "metadata": {},
   "outputs": [],
   "source": [
    "import glob\n",
    "import os\n",
    "import json\n",
    "import xml.etree.ElementTree as ET\n",
    "import requests\n",
    "from urllib import parse\n",
    "import urllib.request\n",
    "import configparser\n",
    "from tqdm import tqdm\n",
    "import time"
   ]
  },
  {
   "cell_type": "markdown",
   "metadata": {},
   "source": [
    "### Get configuration file"
   ]
  },
  {
   "cell_type": "code",
   "execution_count": 2,
   "metadata": {},
   "outputs": [],
   "source": [
    "config = configparser.ConfigParser()\n",
    "config.sections()\n",
    "config.read('../config/api.ini')\n",
    "client_id = config.get('main', 'client_id')\n",
    "client_secret = config.get('main', 'client_secret')\n",
    "endpoint = config.get('main', 'endpoint')"
   ]
  },
  {
   "cell_type": "markdown",
   "metadata": {},
   "source": [
    "### Connect to the Api"
   ]
  },
  {
   "cell_type": "code",
   "execution_count": 3,
   "metadata": {},
   "outputs": [
    {
     "name": "stdout",
     "output_type": "stream",
     "text": [
      "Connected to:     http://localhost:8080/api/\n"
     ]
    }
   ],
   "source": [
    "params = {\n",
    "    'key_identity': client_id,\n",
    "    'key_credential': client_secret\n",
    "}\n",
    "\n",
    "access_url = endpoint\n",
    "print(\"Connected to:    \", access_url)"
   ]
  },
  {
   "cell_type": "markdown",
   "metadata": {},
   "source": [
    "### Navigate the xml and converts it to json"
   ]
  },
  {
   "cell_type": "code",
   "execution_count": 4,
   "metadata": {},
   "outputs": [],
   "source": [
    "dictionary = {}\n",
    "\n",
    "for file in glob.glob(\"../input/*\"):\n",
    "    root = ET.parse(file).getroot()\n",
    "    fileName = str(os.path.basename(file))\n",
    "    \n",
    "    for group in root.findall('family/group'):\n",
    "        groupName = group.attrib['name']\n",
    "        item = group.findall('item')\n",
    "        \n",
    "        for value in item:\n",
    "            fieldName = value.attrib['name']         \n",
    "            matchingName = groupName +\"_\"+ fieldName\n",
    "            fieldValue = value.text\n",
    "            \n",
    "            #fix getty links \n",
    "            if \"getty\" in str(fieldValue) and 'subjectid=' in str(fieldValue) and '[' in str(fieldValue) and '[' in str(fieldValue):\n",
    "                name  = fieldValue.split('[')[0].split(']')[0]\n",
    "                url  = fieldValue.split('[')[1].split(']')[0]\n",
    "\n",
    "                if  'subjectid=' in str(url):\n",
    "                    url  = url.split('subjectid=')[1]\n",
    "                    fieldValue = name + \"; http://vocab.getty.edu/page/tgn/\" +  url            \n",
    "\n",
    "            cleanedText = str(fieldValue).replace(\"None\", \"\").replace(\"\\n\", \"\").replace(\"\\t\", \" \").replace('\"', '').replace(\"'\", \"\")\n",
    "            \n",
    "            # Creating/appending to a JSON structure\n",
    "            if fileName not in dictionary:\n",
    "                dictionary[fileName] = { matchingName :  [cleanedText] }\n",
    "            else:\n",
    "                if matchingName not in dictionary[fileName]:\n",
    "                    dictionary[fileName][matchingName] = [cleanedText]\n",
    "                else:\n",
    "                    dictionary[fileName][matchingName].append(cleanedText)"
   ]
  },
  {
   "cell_type": "markdown",
   "metadata": {},
   "source": [
    "### Upload Images"
   ]
  },
  {
   "cell_type": "code",
   "execution_count": 68,
   "metadata": {},
   "outputs": [
    {
     "name": "stderr",
     "output_type": "stream",
     "text": [
      "  0%|          | 0/641 [00:00<?, ?it/s]"
     ]
    },
    {
     "name": "stdout",
     "output_type": "stream",
     "text": [
      "deleting {'@context': 'http://localhost:8080/api-context', '@id': 'http://localhost:8080/api/media/5236', '@type': ['o:Media', 'crm:E36_Visual_Item'], 'o:id': 5236, 'o:is_public': True, 'o:owner': {'@id': 'http://localhost:8080/api/users/1', 'o:id': 1}, 'o:resource_class': {'@id': 'http://localhost:8080/api/resource_classes/579', 'o:id': 579}, 'o:resource_template': {'@id': 'http://localhost:8080/api/resource_templates/4', 'o:id': 4}, 'o:thumbnail': None, 'o:title': 'M_186_555_recto-cropped-al-sdg-jh-framed-141209.jpg', 'thumbnail_display_urls': {'large': 'http://localhost:8080/files/large/41215905ca4115122e648143344c80bfa06f67ff.jpg', 'medium': 'http://localhost:8080/files/medium/41215905ca4115122e648143344c80bfa06f67ff.jpg', 'square': 'http://localhost:8080/files/square/41215905ca4115122e648143344c80bfa06f67ff.jpg'}, 'o:created': {'@value': '2021-06-02T07:40:46+00:00', '@type': 'http://www.w3.org/2001/XMLSchema#dateTime'}, 'o:modified': {'@value': '2021-06-02T07:40:46+00:00', '@type': 'http://www.w3.org/2001/XMLSchema#dateTime'}, 'o:ingester': 'upload', 'o:renderer': 'file', 'o:item': {'@id': 'http://localhost:8080/api/items/687', 'o:id': 687}, 'o:source': 'M_186_555_recto-cropped-al-sdg-jh-framed-141209.jpg', 'o:media_type': 'image/jpeg', 'o:sha256': '88d7062d1c5410bea645bd9f2811bf41a89e3d1d8c37ecef8c68509b99c27dcb', 'o:size': 398447, 'o:filename': '41215905ca4115122e648143344c80bfa06f67ff.jpg', 'o:lang': None, 'o:original_url': 'http://localhost:8080/files/original/41215905ca4115122e648143344c80bfa06f67ff.jpg', 'o:thumbnail_urls': {'large': 'http://localhost:8080/files/large/41215905ca4115122e648143344c80bfa06f67ff.jpg', 'medium': 'http://localhost:8080/files/medium/41215905ca4115122e648143344c80bfa06f67ff.jpg', 'square': 'http://localhost:8080/files/square/41215905ca4115122e648143344c80bfa06f67ff.jpg'}, 'data': [], 'crm:P1_is_identified_by': [{'type': 'literal', 'property_id': 1899, 'property_label': 'P1 is identified by', 'is_public': True, '@value': 'M_186_555_recto-cropped-al-sdg-jh-framed-141209.jpg'}], 'crm:P2_has_type': [{'type': 'uri', 'property_id': 1924, 'property_label': 'P2 has type', 'is_public': True, '@id': 'http://vocab.getty.edu/aat/300215302', 'o:label': 'digital images'}], 'crm:P65i_is_shown_by': [{'type': 'resource', 'property_id': 1915, 'property_label': 'P65 is shown by', 'is_public': True, '@id': 'http://localhost:8080/api/items/687', 'value_resource_id': 687, 'value_resource_name': 'items', 'url': None, 'display_title': 'M_186_555', 'thumbnail_url': 'http://localhost:8080/files/square/41215905ca4115122e648143344c80bfa06f67ff.jpg', 'thumbnail_title': 'M_186_555_recto-cropped-al-sdg-jh-framed-141209.jpg', 'thumbnail_type': 'image/jpeg'}]}\n"
     ]
    },
    {
     "name": "stderr",
     "output_type": "stream",
     "text": [
      "  0%|          | 0/641 [00:01<?, ?it/s]\n"
     ]
    }
   ],
   "source": [
    "headers = {\"Content-Type\": \"application/json\"}\n",
    "\n",
    "for i in tqdm(dictionary.keys()): \n",
    "    url = access_url + 'items?property[0][property]=' + str(1899) + '&property[0][type]=in&property[0][text]=' + i\n",
    "    response = json.loads(urllib.request.urlopen(url).read().decode('utf-8'))\n",
    "\n",
    "    identifier = response[0]['crm:P1_is_identified_by'][0]['@value']    \n",
    "    resourceId = response[0]['o:id']\n",
    "    \n",
    "    images = [f for f in glob.glob(\"../media/mid/*.jpg\") if identifier in f]\n",
    "\n",
    "    # Move the main image in the first position\n",
    "    mainImagePos = ''\n",
    "\n",
    "    for pos, item in enumerate(images):\n",
    "        fileName = [os.path.basename(item).split('.')[0]][0]\n",
    "        if 'recto-cropped' in item:\n",
    "            mainImagePos = pos\n",
    "        if 'recto-sdg-cropped' in item:   \n",
    "            mainImagePos = pos\n",
    "        if identifier == fileName:\n",
    "            mainImagePos = pos\n",
    "\n",
    "    if mainImagePos:\n",
    "        images.insert(0, images.pop(mainImagePos))\n",
    "\n",
    "    for pos, image in enumerate(images):\n",
    "\n",
    "        # check whether the images exists\n",
    "        imageName = os.path.basename(image)  \n",
    "        \n",
    "        url = access_url + 'media?property[0][property]=' + str(1899) + '&property[0][type]=in&property[0][text]=' + imageName\n",
    "        urlResponse = json.loads(urllib.request.urlopen(url).read().decode('utf-8'))\n",
    "\n",
    "        if urlResponse:\n",
    "            print('deleting',  urlResponse[0])\n",
    "            r = requests.delete(endpoint + 'media/', data=urlResponse[0], params = params, headers=headers)\n",
    "            \n",
    "\n",
    "\n",
    "        data = [{\n",
    "            \"o:ingester\": \"upload\", \n",
    "            \"file_index\": pos, \n",
    "            \"o:item\": {\"o:id\": resourceId },\n",
    "            \"o:resource_template\": {\"o:id\": 4},\n",
    "            \"crm:P2_has_type\": [\n",
    "                {\n",
    "                    \"type\": \"uri\",\n",
    "                    \"property_id\": 1924,\n",
    "                    \"@id\": \"http://vocab.getty.edu/aat/300215302\",\n",
    "                    \"o:label\": \"digital images\"\n",
    "                }\n",
    "            ],\n",
    "            \"crm:P65i_is_shown_by\": [\n",
    "                {\n",
    "                    \"type\": \"resource\",\n",
    "                    \"property_id\": 1915,\n",
    "                    \"value_resource_id\": resourceId,\n",
    "                }\n",
    "            ],\n",
    "             \"crm:P1_is_identified_by\": [\n",
    "                {\n",
    "                    \"type\": \"literal\",\n",
    "                    \"property_id\": 1899,\n",
    "                    \"@value\": imageName,\n",
    "                }\n",
    "            ]\n",
    "\n",
    "        }]\n",
    "\n",
    "        continue\n",
    "        if \"Kartei\" in imageName:\n",
    "            data[0][\"o:resource_class\"] = {\"o:id\": 533}\n",
    "        elif 'recto-cropped' in imageName or 'recto-sdg-cropped' in imageName or identifier == imageName:\n",
    "            data[0][\"o:resource_class\"] = {\"o:id\": 579} \n",
    "        else:\n",
    "            data[0][\"o:resource_class\"] = {\"o:id\": 579} # check wheter there are other classes\n",
    "\n",
    "        files = [\n",
    "             (\"data\", (None, json.dumps(data[0]), \"application/json\")),\n",
    "             (\"file[\"+str(pos)+\"]\", (image, open(image, \"rb\"), \"image/jpg\"))\n",
    "        ]   \n",
    "        \n",
    "        print(json.dumps(data))\n",
    "        r = requests.post(endpoint + 'media', params=params, files=files, headers=headers)\n",
    "        time.sleep(2)\n",
    "        break\n",
    "    break\n",
    "    time.sleep(.25)\n",
    "\n",
    "            "
   ]
  },
  {
   "cell_type": "code",
   "execution_count": null,
   "metadata": {},
   "outputs": [],
   "source": []
  }
 ],
 "metadata": {
  "kernelspec": {
   "display_name": "Python 3",
   "language": "python",
   "name": "python3"
  },
  "language_info": {
   "codemirror_mode": {
    "name": "ipython",
    "version": 3
   },
   "file_extension": ".py",
   "mimetype": "text/x-python",
   "name": "python",
   "nbconvert_exporter": "python",
   "pygments_lexer": "ipython3",
   "version": "3.8.5"
  }
 },
 "nbformat": 4,
 "nbformat_minor": 4
}
