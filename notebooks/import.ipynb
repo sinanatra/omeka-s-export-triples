{
 "cells": [
  {
   "cell_type": "markdown",
   "metadata": {},
   "source": [
    "# Import Items"
   ]
  },
  {
   "cell_type": "markdown",
   "metadata": {},
   "source": [
    "### Import Libraries"
   ]
  },
  {
   "cell_type": "code",
   "execution_count": 1,
   "metadata": {},
   "outputs": [],
   "source": [
    "import glob\n",
    "import os\n",
    "import json\n",
    "import xml.etree.ElementTree as ET\n",
    "import requests\n",
    "import urllib.request\n",
    "import time\n",
    "import configparser\n",
    "import tqdm"
   ]
  },
  {
   "cell_type": "markdown",
   "metadata": {},
   "source": [
    "### Get configuration file"
   ]
  },
  {
   "cell_type": "code",
   "execution_count": 2,
   "metadata": {},
   "outputs": [],
   "source": [
    "config = configparser.ConfigParser()\n",
    "config.sections()\n",
    "config.read('../config/api.ini')\n",
    "client_id = config.get('main', 'client_id')\n",
    "client_secret = config.get('main', 'client_secret')\n",
    "endpoint = config.get('main', 'endpoint')"
   ]
  },
  {
   "cell_type": "markdown",
   "metadata": {},
   "source": [
    "### Connect to the Api"
   ]
  },
  {
   "cell_type": "code",
   "execution_count": 3,
   "metadata": {},
   "outputs": [
    {
     "name": "stdout",
     "output_type": "stream",
     "text": [
      "Connected to:     http://localhost:8080/api/\n"
     ]
    }
   ],
   "source": [
    "params = {\n",
    "    'key_identity': client_id,\n",
    "    'key_credential': client_secret\n",
    "}\n",
    "\n",
    "access_url = endpoint\n",
    "print(\"Connected to:    \", access_url)"
   ]
  },
  {
   "cell_type": "markdown",
   "metadata": {},
   "source": [
    "### Navigate the xml and converts it to json"
   ]
  },
  {
   "cell_type": "code",
   "execution_count": 4,
   "metadata": {},
   "outputs": [],
   "source": [
    "dictionary = {}\n",
    "fileName = ''\n",
    "\n",
    "for file in glob.glob(\"../input/*\"):\n",
    "    root = ET.parse(file).getroot()\n",
    "    fileName = str(os.path.basename(file))\n",
    "    \n",
    "    for group in root.findall('family/group'):\n",
    "        groupName = group.attrib['name']\n",
    "        item = group.findall('item')\n",
    "        \n",
    "        for value in item:\n",
    "            fieldName = value.attrib['name']         \n",
    "            matchingName = groupName +\"_\"+ fieldName\n",
    "            fieldValue = value.text\n",
    "            \n",
    "            #fix getty links \n",
    "            if \"getty\" in str(fieldValue):\n",
    "                a = fieldValue.find('subjectid=')\n",
    "                replaceElement = fieldValue[a+len(\"subjectid=\")]\n",
    "                \n",
    "                for i in range(0,7): # 7 is the lenght of the getty ID\n",
    "                    replaceElement += fieldValue[a+len(\"subjectid=\") + i]\n",
    "                fieldValue = \"http://vocab.getty.edu/page/tgn/\" +  replaceElement\n",
    "            \n",
    "            cleanedText = str(fieldValue).replace(\"None\", \"\").replace(\"\\n\", \"\").replace(\"\\t\", \" \").replace('\"', '').replace(\"'\", \"\")\n",
    "            \n",
    "            # Creating/appending to a JSON structure\n",
    "            if fileName not in dictionary:\n",
    "                dictionary[fileName] = { matchingName :  [cleanedText] }\n",
    "            else:\n",
    "                if matchingName not in dictionary[fileName]:\n",
    "                    dictionary[fileName][matchingName] = [cleanedText]\n",
    "                else:\n",
    "                    dictionary[fileName][matchingName].append(cleanedText)"
   ]
  },
  {
   "cell_type": "markdown",
   "metadata": {},
   "source": [
    "### Define basic omeka items"
   ]
  },
  {
   "cell_type": "code",
   "execution_count": 6,
   "metadata": {},
   "outputs": [],
   "source": [
    "omekaTemplate =  { \"o:resource_template\": {\"@id\": endpoint + \"/resource_templates\\/2\",\"o:id\": 2}}\n",
    "omekaClass =  { \"o:resource_class\": {\"@id\": endpoint + \"/resource_classes\\/26\",\"o:id\": 26} }"
   ]
  },
  {
   "cell_type": "markdown",
   "metadata": {},
   "source": [
    "### Convert Data Fields"
   ]
  },
  {
   "cell_type": "code",
   "execution_count": 9,
   "metadata": {},
   "outputs": [
    {
     "name": "stderr",
     "output_type": "stream",
     "text": [
      "  0%|          | 3/641 [00:00<02:59,  3.55it/s]\n"
     ]
    },
    {
     "ename": "KeyboardInterrupt",
     "evalue": "",
     "output_type": "error",
     "traceback": [
      "\u001b[0;31m---------------------------------------------------------------------------\u001b[0m",
      "\u001b[0;31mKeyboardInterrupt\u001b[0m                         Traceback (most recent call last)",
      "\u001b[0;32m<ipython-input-9-d9aeb105de17>\u001b[0m in \u001b[0;36m<module>\u001b[0;34m\u001b[0m\n\u001b[1;32m     12\u001b[0m     \u001b[0mheaders\u001b[0m \u001b[0;34m=\u001b[0m \u001b[0;34m{\u001b[0m\u001b[0;34m\"Content-Type\"\u001b[0m\u001b[0;34m:\u001b[0m \u001b[0;34m\"application/json\"\u001b[0m\u001b[0;34m}\u001b[0m\u001b[0;34m\u001b[0m\u001b[0;34m\u001b[0m\u001b[0m\n\u001b[1;32m     13\u001b[0m     \u001b[0;31m#r = requests.post(url, data=postFields, params = params, headers=headers)\u001b[0m\u001b[0;34m\u001b[0m\u001b[0;34m\u001b[0m\u001b[0;34m\u001b[0m\u001b[0m\n\u001b[0;32m---> 14\u001b[0;31m     \u001b[0mtime\u001b[0m\u001b[0;34m.\u001b[0m\u001b[0msleep\u001b[0m\u001b[0;34m(\u001b[0m\u001b[0;36m.25\u001b[0m\u001b[0;34m)\u001b[0m\u001b[0;34m\u001b[0m\u001b[0;34m\u001b[0m\u001b[0m\n\u001b[0m",
      "\u001b[0;31mKeyboardInterrupt\u001b[0m: "
     ]
    }
   ],
   "source": [
    "for i in tqdm.tqdm(dictionary.keys()):\n",
    "    \n",
    "    # Converting entries\n",
    "    objectExtent = { \"dcterms:format\": [ { \"type\": \"literal\", \"property_id\": 9, \"@value\": dictionary[fileName]['Objekt_Gem\\u00e4lde Ma\\u00dfe max. (H x B x T in cm)'][0] } ]}\n",
    "    objectMaterial = { \"ecrm:P45_consists_of\": [ { \"type\": \"literal\", \"property_id\": 545, \"@value\": dictionary[fileName]['Objekt_Gem\\u00e4lde Material'][0] } ]}\n",
    "    identifier = { \"dcterms:identifier\": [ { \"type\": \"literal\", \"property_id\": 10, \"@value\": dictionary[i]['Objekt_Sammlungsobjekt-ID'][0] } ]}\n",
    "    \n",
    "    postFields = json.dumps({ **omekaClass, **omekaTemplate, **identifier})\n",
    "    \n",
    "    # Post Request\n",
    "    url = access_url + 'items/'\n",
    "    headers = {\"Content-Type\": \"application/json\"}\n",
    "    #r = requests.post(url, data=postFields, params = params, headers=headers)\n",
    "    time.sleep(.25)"
   ]
  }
 ],
 "metadata": {
  "kernelspec": {
   "display_name": "Python 3",
   "language": "python",
   "name": "python3"
  },
  "language_info": {
   "codemirror_mode": {
    "name": "ipython",
    "version": 3
   },
   "file_extension": ".py",
   "mimetype": "text/x-python",
   "name": "python",
   "nbconvert_exporter": "python",
   "pygments_lexer": "ipython3",
   "version": "3.8.5"
  }
 },
 "nbformat": 4,
 "nbformat_minor": 4
}
