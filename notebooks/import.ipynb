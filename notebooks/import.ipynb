{
 "cells": [
  {
   "cell_type": "markdown",
   "metadata": {},
   "source": [
    "# Import Items"
   ]
  },
  {
   "cell_type": "markdown",
   "metadata": {},
   "source": [
    "### Import Libraries"
   ]
  },
  {
   "cell_type": "code",
   "execution_count": 10,
   "metadata": {},
   "outputs": [],
   "source": [
    "import glob\n",
    "import os\n",
    "import json\n",
    "import xml.etree.ElementTree as ET\n",
    "import requests\n",
    "import urllib.request\n",
    "import time\n",
    "import configparser\n",
    "import tqdm"
   ]
  },
  {
   "cell_type": "markdown",
   "metadata": {},
   "source": [
    "### Get configuration file"
   ]
  },
  {
   "cell_type": "code",
   "execution_count": 11,
   "metadata": {},
   "outputs": [],
   "source": [
    "config = configparser.ConfigParser()\n",
    "config.sections()\n",
    "config.read('../config/api.ini')\n",
    "client_id = config.get('main', 'client_id')\n",
    "client_secret = config.get('main', 'client_secret')\n",
    "endpoint = config.get('main', 'endpoint')"
   ]
  },
  {
   "cell_type": "markdown",
   "metadata": {},
   "source": [
    "### Connect to the Api"
   ]
  },
  {
   "cell_type": "code",
   "execution_count": 12,
   "metadata": {},
   "outputs": [
    {
     "name": "stdout",
     "output_type": "stream",
     "text": [
      "Connected to:     http://localhost:8080/api/\n"
     ]
    }
   ],
   "source": [
    "params = {\n",
    "    'key_identity': client_id,\n",
    "    'key_credential': client_secret\n",
    "}\n",
    "\n",
    "access_url = endpoint\n",
    "print(\"Connected to:    \", access_url)"
   ]
  },
  {
   "cell_type": "markdown",
   "metadata": {},
   "source": [
    "### Navigate the xml and converts it to json"
   ]
  },
  {
   "cell_type": "code",
   "execution_count": 19,
   "metadata": {},
   "outputs": [],
   "source": [
    "dictionary = {}\n",
    "fileName = ''\n",
    "\n",
    "for file in glob.glob(\"../input/*\"):\n",
    "    root = ET.parse(file).getroot()\n",
    "    fileName = str(os.path.basename(file))\n",
    "    \n",
    "    for group in root.findall('family/group'):\n",
    "        groupName = group.attrib['name']\n",
    "        item = group.findall('item')\n",
    "        \n",
    "        for value in item:\n",
    "            fieldName = value.attrib['name']         \n",
    "            matchingName = groupName +\"_\"+ fieldName\n",
    "            fieldValue = value.text\n",
    "            \n",
    "            #fix getty links \n",
    "            if \"getty\" in str(fieldValue) and 'subjectid=' in str(fieldValue) and '[' in str(fieldValue) and '[' in str(fieldValue):\n",
    "                name  = fieldValue.split('[')[0].split(']')[0]\n",
    "                url  = fieldValue.split('[')[1].split(']')[0]\n",
    "\n",
    "                if  'subjectid=' in str(url):\n",
    "                    url  = url.split('subjectid=')[1]\n",
    "                    fieldValue = name + \"; http://vocab.getty.edu/page/tgn/\" +  url            \n",
    "\n",
    "            cleanedText = str(fieldValue).replace(\"None\", \"\").replace(\"\\n\", \"\").replace(\"\\t\", \" \").replace('\"', '').replace(\"'\", \"\")\n",
    "            \n",
    "            # Creating/appending to a JSON structure\n",
    "            if fileName not in dictionary:\n",
    "                dictionary[fileName] = { matchingName :  [cleanedText] }\n",
    "            else:\n",
    "                if matchingName not in dictionary[fileName]:\n",
    "                    dictionary[fileName][matchingName] = [cleanedText]\n",
    "                else:\n",
    "                    dictionary[fileName][matchingName].append(cleanedText)"
   ]
  },
  {
   "cell_type": "markdown",
   "metadata": {},
   "source": [
    "### Define basic omeka items"
   ]
  },
  {
   "cell_type": "code",
   "execution_count": 16,
   "metadata": {},
   "outputs": [],
   "source": [
    "omekaTemplate =  { \"o:resource_template\": {\"@id\": endpoint + \"/resource_templates\\/2\",\"o:id\": 2}}\n",
    "omekaClass = {\"o:resource_class\": {\"o:id\": 592}}"
   ]
  },
  {
   "cell_type": "markdown",
   "metadata": {},
   "source": [
    "### Convert Data Fields"
   ]
  },
  {
   "cell_type": "code",
   "execution_count": 18,
   "metadata": {},
   "outputs": [
    {
     "name": "stderr",
     "output_type": "stream",
     "text": [
      "100%|██████████| 641/641 [09:57<00:00,  1.07it/s]\n"
     ]
    }
   ],
   "source": [
    "for i in tqdm.tqdm(dictionary.keys()):\n",
    "    \n",
    "    # Converting entries\n",
    "    identifier = { \"crm:P1_is_identified_by\": [ { \"type\": \"literal\", \"property_id\": 1899, \"@value\": dictionary[i]['Objekt_Sammlungsobjekt-ID'][0] } ]}\n",
    "\n",
    "    postFields = json.dumps({ **omekaClass, **omekaTemplate, **identifier})\n",
    "    \n",
    "    # Post Request\n",
    "    url = access_url + 'items/'\n",
    "    headers = {\"Content-Type\": \"application/json\"}\n",
    "    r = requests.post(url, data=postFields, params = params, headers=headers)\n",
    "    time.sleep(.25)"
   ]
  }
 ],
 "metadata": {
  "kernelspec": {
   "display_name": "Python 3",
   "language": "python",
   "name": "python3"
  },
  "language_info": {
   "codemirror_mode": {
    "name": "ipython",
    "version": 3
   },
   "file_extension": ".py",
   "mimetype": "text/x-python",
   "name": "python",
   "nbconvert_exporter": "python",
   "pygments_lexer": "ipython3",
   "version": "3.8.5"
  }
 },
 "nbformat": 4,
 "nbformat_minor": 4
}
